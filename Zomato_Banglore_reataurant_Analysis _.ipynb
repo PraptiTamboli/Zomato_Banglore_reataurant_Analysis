{
 "cells": [
  {
   "cell_type": "code",
   "execution_count": 1,
   "id": "0470a36e",
   "metadata": {},
   "outputs": [],
   "source": [
    "# Importing libraries\n",
    "import numpy as np\n",
    "import pandas as pd "
   ]
  },
  {
   "cell_type": "code",
   "execution_count": 2,
   "id": "9d6c1b7a",
   "metadata": {},
   "outputs": [
    {
     "data": {
      "text/html": [
       "<div>\n",
       "<style scoped>\n",
       "    .dataframe tbody tr th:only-of-type {\n",
       "        vertical-align: middle;\n",
       "    }\n",
       "\n",
       "    .dataframe tbody tr th {\n",
       "        vertical-align: top;\n",
       "    }\n",
       "\n",
       "    .dataframe thead th {\n",
       "        text-align: right;\n",
       "    }\n",
       "</style>\n",
       "<table border=\"1\" class=\"dataframe\">\n",
       "  <thead>\n",
       "    <tr style=\"text-align: right;\">\n",
       "      <th></th>\n",
       "      <th>url</th>\n",
       "      <th>address</th>\n",
       "      <th>name</th>\n",
       "      <th>online_order</th>\n",
       "      <th>book_table</th>\n",
       "      <th>rate</th>\n",
       "      <th>votes</th>\n",
       "      <th>phone</th>\n",
       "      <th>location</th>\n",
       "      <th>rest_type</th>\n",
       "      <th>dish_liked</th>\n",
       "      <th>cuisines</th>\n",
       "      <th>approx_cost(for two people)</th>\n",
       "      <th>reviews_list</th>\n",
       "      <th>menu_item</th>\n",
       "      <th>listed_in(type)</th>\n",
       "      <th>listed_in(city)</th>\n",
       "    </tr>\n",
       "  </thead>\n",
       "  <tbody>\n",
       "    <tr>\n",
       "      <th>0</th>\n",
       "      <td>https://www.zomato.com/bangalore/jalsa-banasha...</td>\n",
       "      <td>942, 21st Main Road, 2nd Stage, Banashankari, ...</td>\n",
       "      <td>Jalsa</td>\n",
       "      <td>Yes</td>\n",
       "      <td>Yes</td>\n",
       "      <td>4.1/5</td>\n",
       "      <td>775</td>\n",
       "      <td>080 42297555\\r\\n+91 9743772233</td>\n",
       "      <td>Banashankari</td>\n",
       "      <td>Casual Dining</td>\n",
       "      <td>Pasta, Lunch Buffet, Masala Papad, Paneer Laja...</td>\n",
       "      <td>North Indian, Mughlai, Chinese</td>\n",
       "      <td>800</td>\n",
       "      <td>[('Rated 4.0', 'RATED\\n  A beautiful place to ...</td>\n",
       "      <td>[]</td>\n",
       "      <td>Buffet</td>\n",
       "      <td>Banashankari</td>\n",
       "    </tr>\n",
       "    <tr>\n",
       "      <th>1</th>\n",
       "      <td>https://www.zomato.com/bangalore/spice-elephan...</td>\n",
       "      <td>2nd Floor, 80 Feet Road, Near Big Bazaar, 6th ...</td>\n",
       "      <td>Spice Elephant</td>\n",
       "      <td>Yes</td>\n",
       "      <td>No</td>\n",
       "      <td>4.1/5</td>\n",
       "      <td>787</td>\n",
       "      <td>080 41714161</td>\n",
       "      <td>Banashankari</td>\n",
       "      <td>Casual Dining</td>\n",
       "      <td>Momos, Lunch Buffet, Chocolate Nirvana, Thai G...</td>\n",
       "      <td>Chinese, North Indian, Thai</td>\n",
       "      <td>800</td>\n",
       "      <td>[('Rated 4.0', 'RATED\\n  Had been here for din...</td>\n",
       "      <td>[]</td>\n",
       "      <td>Buffet</td>\n",
       "      <td>Banashankari</td>\n",
       "    </tr>\n",
       "    <tr>\n",
       "      <th>2</th>\n",
       "      <td>https://www.zomato.com/SanchurroBangalore?cont...</td>\n",
       "      <td>1112, Next to KIMS Medical College, 17th Cross...</td>\n",
       "      <td>San Churro Cafe</td>\n",
       "      <td>Yes</td>\n",
       "      <td>No</td>\n",
       "      <td>3.8/5</td>\n",
       "      <td>918</td>\n",
       "      <td>+91 9663487993</td>\n",
       "      <td>Banashankari</td>\n",
       "      <td>Cafe, Casual Dining</td>\n",
       "      <td>Churros, Cannelloni, Minestrone Soup, Hot Choc...</td>\n",
       "      <td>Cafe, Mexican, Italian</td>\n",
       "      <td>800</td>\n",
       "      <td>[('Rated 3.0', \"RATED\\n  Ambience is not that ...</td>\n",
       "      <td>[]</td>\n",
       "      <td>Buffet</td>\n",
       "      <td>Banashankari</td>\n",
       "    </tr>\n",
       "    <tr>\n",
       "      <th>3</th>\n",
       "      <td>https://www.zomato.com/bangalore/addhuri-udupi...</td>\n",
       "      <td>1st Floor, Annakuteera, 3rd Stage, Banashankar...</td>\n",
       "      <td>Addhuri Udupi Bhojana</td>\n",
       "      <td>No</td>\n",
       "      <td>No</td>\n",
       "      <td>3.7/5</td>\n",
       "      <td>88</td>\n",
       "      <td>+91 9620009302</td>\n",
       "      <td>Banashankari</td>\n",
       "      <td>Quick Bites</td>\n",
       "      <td>Masala Dosa</td>\n",
       "      <td>South Indian, North Indian</td>\n",
       "      <td>300</td>\n",
       "      <td>[('Rated 4.0', \"RATED\\n  Great food and proper...</td>\n",
       "      <td>[]</td>\n",
       "      <td>Buffet</td>\n",
       "      <td>Banashankari</td>\n",
       "    </tr>\n",
       "    <tr>\n",
       "      <th>4</th>\n",
       "      <td>https://www.zomato.com/bangalore/grand-village...</td>\n",
       "      <td>10, 3rd Floor, Lakshmi Associates, Gandhi Baza...</td>\n",
       "      <td>Grand Village</td>\n",
       "      <td>No</td>\n",
       "      <td>No</td>\n",
       "      <td>3.8/5</td>\n",
       "      <td>166</td>\n",
       "      <td>+91 8026612447\\r\\n+91 9901210005</td>\n",
       "      <td>Basavanagudi</td>\n",
       "      <td>Casual Dining</td>\n",
       "      <td>Panipuri, Gol Gappe</td>\n",
       "      <td>North Indian, Rajasthani</td>\n",
       "      <td>600</td>\n",
       "      <td>[('Rated 4.0', 'RATED\\n  Very good restaurant ...</td>\n",
       "      <td>[]</td>\n",
       "      <td>Buffet</td>\n",
       "      <td>Banashankari</td>\n",
       "    </tr>\n",
       "  </tbody>\n",
       "</table>\n",
       "</div>"
      ],
      "text/plain": [
       "                                                 url  \\\n",
       "0  https://www.zomato.com/bangalore/jalsa-banasha...   \n",
       "1  https://www.zomato.com/bangalore/spice-elephan...   \n",
       "2  https://www.zomato.com/SanchurroBangalore?cont...   \n",
       "3  https://www.zomato.com/bangalore/addhuri-udupi...   \n",
       "4  https://www.zomato.com/bangalore/grand-village...   \n",
       "\n",
       "                                             address                   name  \\\n",
       "0  942, 21st Main Road, 2nd Stage, Banashankari, ...                  Jalsa   \n",
       "1  2nd Floor, 80 Feet Road, Near Big Bazaar, 6th ...         Spice Elephant   \n",
       "2  1112, Next to KIMS Medical College, 17th Cross...        San Churro Cafe   \n",
       "3  1st Floor, Annakuteera, 3rd Stage, Banashankar...  Addhuri Udupi Bhojana   \n",
       "4  10, 3rd Floor, Lakshmi Associates, Gandhi Baza...          Grand Village   \n",
       "\n",
       "  online_order book_table   rate  votes                             phone  \\\n",
       "0          Yes        Yes  4.1/5    775    080 42297555\\r\\n+91 9743772233   \n",
       "1          Yes         No  4.1/5    787                      080 41714161   \n",
       "2          Yes         No  3.8/5    918                    +91 9663487993   \n",
       "3           No         No  3.7/5     88                    +91 9620009302   \n",
       "4           No         No  3.8/5    166  +91 8026612447\\r\\n+91 9901210005   \n",
       "\n",
       "       location            rest_type  \\\n",
       "0  Banashankari        Casual Dining   \n",
       "1  Banashankari        Casual Dining   \n",
       "2  Banashankari  Cafe, Casual Dining   \n",
       "3  Banashankari          Quick Bites   \n",
       "4  Basavanagudi        Casual Dining   \n",
       "\n",
       "                                          dish_liked  \\\n",
       "0  Pasta, Lunch Buffet, Masala Papad, Paneer Laja...   \n",
       "1  Momos, Lunch Buffet, Chocolate Nirvana, Thai G...   \n",
       "2  Churros, Cannelloni, Minestrone Soup, Hot Choc...   \n",
       "3                                        Masala Dosa   \n",
       "4                                Panipuri, Gol Gappe   \n",
       "\n",
       "                         cuisines approx_cost(for two people)  \\\n",
       "0  North Indian, Mughlai, Chinese                         800   \n",
       "1     Chinese, North Indian, Thai                         800   \n",
       "2          Cafe, Mexican, Italian                         800   \n",
       "3      South Indian, North Indian                         300   \n",
       "4        North Indian, Rajasthani                         600   \n",
       "\n",
       "                                        reviews_list menu_item  \\\n",
       "0  [('Rated 4.0', 'RATED\\n  A beautiful place to ...        []   \n",
       "1  [('Rated 4.0', 'RATED\\n  Had been here for din...        []   \n",
       "2  [('Rated 3.0', \"RATED\\n  Ambience is not that ...        []   \n",
       "3  [('Rated 4.0', \"RATED\\n  Great food and proper...        []   \n",
       "4  [('Rated 4.0', 'RATED\\n  Very good restaurant ...        []   \n",
       "\n",
       "  listed_in(type) listed_in(city)  \n",
       "0          Buffet    Banashankari  \n",
       "1          Buffet    Banashankari  \n",
       "2          Buffet    Banashankari  \n",
       "3          Buffet    Banashankari  \n",
       "4          Buffet    Banashankari  "
      ]
     },
     "execution_count": 2,
     "metadata": {},
     "output_type": "execute_result"
    }
   ],
   "source": [
    "# dataset can get from kaggle \n",
    "# https://www.kaggle.com/datasets/absin7/zomato-bangalore-dataset?select=dictionary_data.txt\n",
    "# Loading dataset\n",
    "data = pd.read_csv('zomato.csv')\n",
    "data.head() #print the first 5 rows"
   ]
  },
  {
   "cell_type": "code",
   "execution_count": 3,
   "id": "ca0faa4c",
   "metadata": {},
   "outputs": [
    {
     "name": "stdout",
     "output_type": "stream",
     "text": [
      "<class 'pandas.core.frame.DataFrame'>\n",
      "RangeIndex: 51717 entries, 0 to 51716\n",
      "Data columns (total 17 columns):\n",
      " #   Column                       Non-Null Count  Dtype \n",
      "---  ------                       --------------  ----- \n",
      " 0   url                          51717 non-null  object\n",
      " 1   address                      51717 non-null  object\n",
      " 2   name                         51717 non-null  object\n",
      " 3   online_order                 51717 non-null  object\n",
      " 4   book_table                   51717 non-null  object\n",
      " 5   rate                         43942 non-null  object\n",
      " 6   votes                        51717 non-null  int64 \n",
      " 7   phone                        50509 non-null  object\n",
      " 8   location                     51696 non-null  object\n",
      " 9   rest_type                    51490 non-null  object\n",
      " 10  dish_liked                   23639 non-null  object\n",
      " 11  cuisines                     51672 non-null  object\n",
      " 12  approx_cost(for two people)  51371 non-null  object\n",
      " 13  reviews_list                 51717 non-null  object\n",
      " 14  menu_item                    51717 non-null  object\n",
      " 15  listed_in(type)              51717 non-null  object\n",
      " 16  listed_in(city)              51717 non-null  object\n",
      "dtypes: int64(1), object(16)\n",
      "memory usage: 6.7+ MB\n"
     ]
    }
   ],
   "source": [
    "# looking at the info. about dataset, datatypes of the corresponding columns and missing values\n",
    "data.info()"
   ]
  },
  {
   "cell_type": "code",
   "execution_count": 4,
   "id": "2e929ad0",
   "metadata": {},
   "outputs": [
    {
     "data": {
      "text/plain": [
       "Index(['url', 'address', 'name', 'online_order', 'book_table', 'rate', 'votes',\n",
       "       'phone', 'location', 'rest_type', 'dish_liked', 'cuisines',\n",
       "       'approx_cost(for two people)', 'reviews_list', 'menu_item',\n",
       "       'listed_in(type)', 'listed_in(city)'],\n",
       "      dtype='object')"
      ]
     },
     "execution_count": 4,
     "metadata": {},
     "output_type": "execute_result"
    }
   ],
   "source": [
    "# Null values\n",
    "data.columns"
   ]
  },
  {
   "cell_type": "code",
   "execution_count": 5,
   "id": "500df894",
   "metadata": {},
   "outputs": [
    {
     "data": {
      "text/plain": [
       "array(['Banashankari', 'Bannerghatta Road', 'Basavanagudi', 'Bellandur',\n",
       "       'Brigade Road', 'Brookefield', 'BTM', 'Church Street',\n",
       "       'Electronic City', 'Frazer Town', 'HSR', 'Indiranagar',\n",
       "       'Jayanagar', 'JP Nagar', 'Kalyan Nagar', 'Kammanahalli',\n",
       "       'Koramangala 4th Block', 'Koramangala 5th Block',\n",
       "       'Koramangala 6th Block', 'Koramangala 7th Block', 'Lavelle Road',\n",
       "       'Malleshwaram', 'Marathahalli', 'MG Road', 'New BEL Road',\n",
       "       'Old Airport Road', 'Rajajinagar', 'Residency Road',\n",
       "       'Sarjapur Road', 'Whitefield'], dtype=object)"
      ]
     },
     "execution_count": 5,
     "metadata": {},
     "output_type": "execute_result"
    }
   ],
   "source": [
    "data['listed_in(city)'].unique()"
   ]
  },
  {
   "cell_type": "code",
   "execution_count": 6,
   "id": "fcba96e1",
   "metadata": {},
   "outputs": [
    {
     "data": {
      "text/plain": [
       "array(['Banashankari', 'Basavanagudi', 'Mysore Road', 'Jayanagar',\n",
       "       'Kumaraswamy Layout', 'Rajarajeshwari Nagar', 'Vijay Nagar',\n",
       "       'Uttarahalli', 'JP Nagar', 'South Bangalore', 'City Market',\n",
       "       'Nagarbhavi', 'Bannerghatta Road', 'BTM', 'Kanakapura Road',\n",
       "       'Bommanahalli', nan, 'CV Raman Nagar', 'Electronic City', 'HSR',\n",
       "       'Marathahalli', 'Sarjapur Road', 'Wilson Garden', 'Shanti Nagar',\n",
       "       'Koramangala 5th Block', 'Koramangala 8th Block', 'Richmond Road',\n",
       "       'Koramangala 7th Block', 'Jalahalli', 'Koramangala 4th Block',\n",
       "       'Bellandur', 'Whitefield', 'East Bangalore', 'Old Airport Road',\n",
       "       'Indiranagar', 'Koramangala 1st Block', 'Frazer Town', 'RT Nagar',\n",
       "       'MG Road', 'Brigade Road', 'Lavelle Road', 'Church Street',\n",
       "       'Ulsoor', 'Residency Road', 'Shivajinagar', 'Infantry Road',\n",
       "       'St. Marks Road', 'Cunningham Road', 'Race Course Road',\n",
       "       'Commercial Street', 'Vasanth Nagar', 'HBR Layout', 'Domlur',\n",
       "       'Ejipura', 'Jeevan Bhima Nagar', 'Old Madras Road', 'Malleshwaram',\n",
       "       'Seshadripuram', 'Kammanahalli', 'Koramangala 6th Block',\n",
       "       'Majestic', 'Langford Town', 'Central Bangalore', 'Sanjay Nagar',\n",
       "       'Brookefield', 'ITPL Main Road, Whitefield',\n",
       "       'Varthur Main Road, Whitefield', 'KR Puram',\n",
       "       'Koramangala 2nd Block', 'Koramangala 3rd Block', 'Koramangala',\n",
       "       'Hosur Road', 'Rajajinagar', 'Banaswadi', 'North Bangalore',\n",
       "       'Nagawara', 'Hennur', 'Kalyan Nagar', 'New BEL Road', 'Jakkur',\n",
       "       'Rammurthy Nagar', 'Thippasandra', 'Kaggadasapura', 'Hebbal',\n",
       "       'Kengeri', 'Sankey Road', 'Sadashiv Nagar', 'Basaveshwara Nagar',\n",
       "       'Yeshwantpur', 'West Bangalore', 'Magadi Road', 'Yelahanka',\n",
       "       'Sahakara Nagar', 'Peenya'], dtype=object)"
      ]
     },
     "execution_count": 6,
     "metadata": {},
     "output_type": "execute_result"
    }
   ],
   "source": [
    "data['location'].unique()"
   ]
  },
  {
   "cell_type": "markdown",
   "id": "75d87cef",
   "metadata": {},
   "source": [
    "As our aim is to get a fair idea about the factors affecting the establishment of different types of restaurant at different places in Bengaluru, we will remove certain columns that are not of much help to us. First we will remove 'url' column as it does not play a major role. 'Address' can also be removed because 'location' is a much easier and better feature to analyze as compared to 'address'. 'Phone' will also be removed.\n",
    "\n",
    "As we can observe the 'location' field offers more precise location as compared to the column 'listed_in(city)' column, we will use the 'location' column."
   ]
  },
  {
   "cell_type": "code",
   "execution_count": 7,
   "id": "90fe6601",
   "metadata": {},
   "outputs": [],
   "source": [
    "data.drop(['url','address','phone','listed_in(city)'], axis = 1, inplace = True)"
   ]
  },
  {
   "cell_type": "code",
   "execution_count": 8,
   "id": "353dfbc5",
   "metadata": {},
   "outputs": [
    {
     "data": {
      "text/plain": [
       "name                               0\n",
       "online_order                       0\n",
       "book_table                         0\n",
       "rate                            7775\n",
       "votes                              0\n",
       "location                          21\n",
       "rest_type                        227\n",
       "dish_liked                     28078\n",
       "cuisines                          45\n",
       "approx_cost(for two people)      346\n",
       "reviews_list                       0\n",
       "menu_item                          0\n",
       "listed_in(type)                    0\n",
       "dtype: int64"
      ]
     },
     "execution_count": 8,
     "metadata": {},
     "output_type": "execute_result"
    }
   ],
   "source": [
    "data.isnull().sum()"
   ]
  },
  {
   "cell_type": "code",
   "execution_count": 9,
   "id": "bab36a78",
   "metadata": {},
   "outputs": [],
   "source": [
    "import matplotlib.pyplot as plt\n",
    "import seaborn as sns\n",
    "%matplotlib inline\n",
    "\n",
    "def missing_values(data, thresh = 20, color = 'black', edgecolor = 'black', height = 3, width = 15):\n",
    "    \n",
    "    plt.figure(figsize = (width, height))\n",
    "    percentage = (data.isnull().mean()) * 100\n",
    "    percentage.sort_values(ascending = False).plot.bar(color = color, edgecolor = edgecolor)\n",
    "    plt.axhline(y = thresh, color = 'r', linestyle = '-')\n",
    "    \n",
    "    plt.title('Missing values percentage per column', fontsize = 20, weight = 'bold' )\n",
    "    \n",
    "    plt.text(len(data.isnull().sum()/len(data))/1.7, thresh + 12.5, f'Columns with more than {thresh}% missing values', fontsize = 12, color = 'crimson',\n",
    "         ha = 'left' ,va = 'top')\n",
    "    plt.text(len(data.isnull().sum()/len(data))/1.7, thresh - 5, f'Columns with less than {thresh}% missing values', fontsize=12, color='green',\n",
    "         ha = 'left' ,va = 'top')\n",
    "    plt.xlabel('Columns', size = 15, weight = 'bold')\n",
    "    plt.ylabel('Missing values percentage')\n",
    "    plt.yticks(weight = 'bold')\n",
    "    \n",
    "    return plt.show()"
   ]
  },
  {
   "cell_type": "code",
   "execution_count": 10,
   "id": "2c590930",
   "metadata": {},
   "outputs": [
    {
     "data": {
      "image/png": "[encoded data removed]",
      "text/plain": [
       "<Figure size 1080x216 with 1 Axes>"
      ]
     },
     "metadata": {
      "needs_background": "light"
     },
     "output_type": "display_data"
    }
   ],
   "source": [
    "missing_values(data, thresh= 20, color = sns.color_palette('Reds',15))"
   ]
  },
  {
   "cell_type": "markdown",
   "id": "2de2135a",
   "metadata": {},
   "source": [
    "We will remove the 'dish_liked' column as it contains more than 50% missing values."
   ]
  },
  {
   "cell_type": "code",
   "execution_count": 11,
   "id": "2b3eb3b6",
   "metadata": {},
   "outputs": [],
   "source": [
    "data.drop(['dish_liked'], axis = 1, inplace = True)"
   ]
  },
  {
   "cell_type": "code",
   "execution_count": 12,
   "id": "b93f08f2",
   "metadata": {},
   "outputs": [
    {
     "data": {
      "image/png": "[encoded data removed]",
      "text/plain": [
       "<Figure size 1080x216 with 1 Axes>"
      ]
     },
     "metadata": {
      "needs_background": "light"
     },
     "output_type": "display_data"
    }
   ],
   "source": [
    "missing_values(data, thresh= 20, color = sns.color_palette('Reds',15))"
   ]
  },
  {
   "cell_type": "markdown",
   "id": "c2fe313d",
   "metadata": {},
   "source": [
    "For the null values present in the 'rate' column, we will replace them with the mode of the 'rate' column. We can not remove this column, because we won't have any dependent column left with us once we remove it."
   ]
  },
  {
   "cell_type": "code",
   "execution_count": 13,
   "id": "d3c5e2b7",
   "metadata": {},
   "outputs": [],
   "source": [
    "data['rate'] = data['rate'].fillna(data['rate'].mode()[0])"
   ]
  },
  {
   "cell_type": "code",
   "execution_count": 14,
   "id": "5824bd79",
   "metadata": {},
   "outputs": [
    {
     "data": {
      "image/png": "[encoded data removed]",
      "text/plain": [
       "<Figure size 1080x216 with 1 Axes>"
      ]
     },
     "metadata": {
      "needs_background": "light"
     },
     "output_type": "display_data"
    }
   ],
   "source": [
    "missing_values(data, thresh = 20, color = sns.color_palette('Reds',15))"
   ]
  },
  {
   "cell_type": "markdown",
   "id": "db8e1db5",
   "metadata": {},
   "source": [
    "We will remove the rows having null values for the above column"
   ]
  },
  {
   "cell_type": "code",
   "execution_count": 15,
   "id": "66d45094",
   "metadata": {},
   "outputs": [],
   "source": [
    "previous_data = data\n",
    "data.dropna(inplace = True)"
   ]
  },
  {
   "cell_type": "code",
   "execution_count": 16,
   "id": "11905c9d",
   "metadata": {},
   "outputs": [
    {
     "data": {
      "image/png": "[encoded data removed]",
      "text/plain": [
       "<Figure size 1080x216 with 1 Axes>"
      ]
     },
     "metadata": {
      "needs_background": "light"
     },
     "output_type": "display_data"
    }
   ],
   "source": [
    "missing_values(data, thresh = 20, color = sns.color_palette('Reds',15))"
   ]
  },
  {
   "cell_type": "code",
   "execution_count": 17,
   "id": "c388d611",
   "metadata": {},
   "outputs": [
    {
     "data": {
      "text/plain": [
       "0"
      ]
     },
     "execution_count": 17,
     "metadata": {},
     "output_type": "execute_result"
    }
   ],
   "source": [
    "data.isnull().sum().sum()"
   ]
  },
  {
   "cell_type": "markdown",
   "id": "a379ab9e",
   "metadata": {},
   "source": [
    "Therefore, no null values are present in the dataset. Let's move onto the analysis part."
   ]
  },
  {
   "cell_type": "code",
   "execution_count": 18,
   "id": "d9038e89",
   "metadata": {},
   "outputs": [
    {
     "name": "stdout",
     "output_type": "stream",
     "text": [
      "Number of rows present in the dataset are: 51148\n",
      "Number of columns present in the dataset are: 12\n"
     ]
    }
   ],
   "source": [
    "print(\"Number of rows present in the dataset are:\", data.shape[0])\n",
    "print(\"Number of columns present in the dataset are:\", data.shape[1])"
   ]
  },
  {
   "cell_type": "markdown",
   "id": "dbd0b9bc",
   "metadata": {},
   "source": [
    "# Rating Distribution"
   ]
  },
  {
   "cell_type": "code",
   "execution_count": 19,
   "id": "97485e0d",
   "metadata": {},
   "outputs": [
    {
     "data": {
      "text/plain": [
       "NEW       9820\n",
       "3.9/5     2091\n",
       "3.7/5     2008\n",
       "3.8/5     1999\n",
       "3.9 /5    1867\n",
       "          ... \n",
       "2.2 /5       7\n",
       "2.0 /5       7\n",
       "2.0/5        4\n",
       "1.8 /5       3\n",
       "1.8/5        2\n",
       "Name: rate, Length: 64, dtype: int64"
      ]
     },
     "execution_count": 19,
     "metadata": {},
     "output_type": "execute_result"
    }
   ],
   "source": [
    "data['rate'].value_counts()"
   ]
  },
  {
   "cell_type": "markdown",
   "id": "5c7f2340",
   "metadata": {},
   "source": [
    "We can see a category named 'new' which indicates that the restaurant is fairly new, hence we will replace the value 'new' with '2.5' as it can be mode as well as bad..we don't know that yet. Please note we will replace with '2.5 /5' for maintaing uniform format."
   ]
  },
  {
   "cell_type": "code",
   "execution_count": 20,
   "id": "accc473e",
   "metadata": {},
   "outputs": [
    {
     "name": "stdout",
     "output_type": "stream",
     "text": [
      "rate column type: <class 'str'>\n"
     ]
    }
   ],
   "source": [
    "print(\"rate column type:\", type(data['rate'][0]))"
   ]
  },
  {
   "cell_type": "code",
   "execution_count": 21,
   "id": "2351e738",
   "metadata": {},
   "outputs": [
    {
     "data": {
      "text/plain": [
       "array(['4.1/5', '3.8/5', '3.7/5', '3.6/5', '4.6/5', '4.0/5', '4.2/5',\n",
       "       '3.9/5', '3.1/5', '3.0/5', '3.2/5', '3.3/5', '2.8/5', '4.4/5',\n",
       "       '4.3/5', '2.5 /5', '2.9/5', '3.5/5', '2.6/5', '3.8 /5', '3.4/5',\n",
       "       '4.5/5', '2.5/5', '2.7/5', '4.7/5', '2.4/5', '2.2/5', '2.3/5',\n",
       "       '3.4 /5', '-', '3.6 /5', '4.8/5', '3.9 /5', '4.2 /5', '4.0 /5',\n",
       "       '4.1 /5', '3.7 /5', '3.1 /5', '2.9 /5', '3.3 /5', '2.8 /5',\n",
       "       '3.5 /5', '2.7 /5', '3.2 /5', '2.6 /5', '4.5 /5', '4.3 /5',\n",
       "       '4.4 /5', '4.9/5', '2.1/5', '2.0/5', '1.8/5', '4.6 /5', '4.9 /5',\n",
       "       '3.0 /5', '4.8 /5', '2.3 /5', '4.7 /5', '2.4 /5', '2.1 /5',\n",
       "       '2.2 /5', '2.0 /5', '1.8 /5'], dtype=object)"
      ]
     },
     "execution_count": 21,
     "metadata": {},
     "output_type": "execute_result"
    }
   ],
   "source": [
    "data['rate'].replace({\"NEW\" : \"2.5 /5\"}, inplace = True)\n",
    "data['rate'].unique()"
   ]
  },
  {
   "cell_type": "code",
   "execution_count": 22,
   "id": "2c620cc0",
   "metadata": {
    "scrolled": true
   },
   "outputs": [
    {
     "data": {
      "text/html": [
       "<div>\n",
       "<style scoped>\n",
       "    .dataframe tbody tr th:only-of-type {\n",
       "        vertical-align: middle;\n",
       "    }\n",
       "\n",
       "    .dataframe tbody tr th {\n",
       "        vertical-align: top;\n",
       "    }\n",
       "\n",
       "    .dataframe thead th {\n",
       "        text-align: right;\n",
       "    }\n",
       "</style>\n",
       "<table border=\"1\" class=\"dataframe\">\n",
       "  <thead>\n",
       "    <tr style=\"text-align: right;\">\n",
       "      <th></th>\n",
       "      <th>name</th>\n",
       "      <th>online_order</th>\n",
       "      <th>book_table</th>\n",
       "      <th>rate</th>\n",
       "      <th>votes</th>\n",
       "      <th>location</th>\n",
       "      <th>rest_type</th>\n",
       "      <th>cuisines</th>\n",
       "      <th>approx_cost(for two people)</th>\n",
       "      <th>reviews_list</th>\n",
       "      <th>menu_item</th>\n",
       "      <th>listed_in(type)</th>\n",
       "    </tr>\n",
       "  </thead>\n",
       "  <tbody>\n",
       "    <tr>\n",
       "      <th>3068</th>\n",
       "      <td>House of Tasty Food</td>\n",
       "      <td>No</td>\n",
       "      <td>No</td>\n",
       "      <td>-</td>\n",
       "      <td>0</td>\n",
       "      <td>Wilson Garden</td>\n",
       "      <td>Quick Bites</td>\n",
       "      <td>North Indian</td>\n",
       "      <td>400</td>\n",
       "      <td>[]</td>\n",
       "      <td>[]</td>\n",
       "      <td>Delivery</td>\n",
       "    </tr>\n",
       "    <tr>\n",
       "      <th>3373</th>\n",
       "      <td>Right Pizza</td>\n",
       "      <td>Yes</td>\n",
       "      <td>No</td>\n",
       "      <td>-</td>\n",
       "      <td>0</td>\n",
       "      <td>Basavanagudi</td>\n",
       "      <td>Quick Bites</td>\n",
       "      <td>Pizza</td>\n",
       "      <td>300</td>\n",
       "      <td>[]</td>\n",
       "      <td>[]</td>\n",
       "      <td>Dine-out</td>\n",
       "    </tr>\n",
       "    <tr>\n",
       "      <th>3378</th>\n",
       "      <td>Mezban Family Restaurant</td>\n",
       "      <td>Yes</td>\n",
       "      <td>No</td>\n",
       "      <td>-</td>\n",
       "      <td>0</td>\n",
       "      <td>Basavanagudi</td>\n",
       "      <td>Quick Bites</td>\n",
       "      <td>Chinese, North Indian</td>\n",
       "      <td>300</td>\n",
       "      <td>[('Rated 5.0', 'RATED\\n  Food was delicious es...</td>\n",
       "      <td>[]</td>\n",
       "      <td>Dine-out</td>\n",
       "    </tr>\n",
       "    <tr>\n",
       "      <th>3387</th>\n",
       "      <td>Mota Bawarchi</td>\n",
       "      <td>No</td>\n",
       "      <td>No</td>\n",
       "      <td>-</td>\n",
       "      <td>0</td>\n",
       "      <td>Basavanagudi</td>\n",
       "      <td>Quick Bites</td>\n",
       "      <td>North Indian, Biryani, Fast Food</td>\n",
       "      <td>300</td>\n",
       "      <td>[]</td>\n",
       "      <td>[]</td>\n",
       "      <td>Dine-out</td>\n",
       "    </tr>\n",
       "    <tr>\n",
       "      <th>3396</th>\n",
       "      <td>Aahar Cafe</td>\n",
       "      <td>No</td>\n",
       "      <td>No</td>\n",
       "      <td>-</td>\n",
       "      <td>0</td>\n",
       "      <td>Basavanagudi</td>\n",
       "      <td>Quick Bites</td>\n",
       "      <td>South Indian</td>\n",
       "      <td>100</td>\n",
       "      <td>[('Rated 1.0', 'RATED\\n  Ververy bad.....not g...</td>\n",
       "      <td>[]</td>\n",
       "      <td>Dine-out</td>\n",
       "    </tr>\n",
       "  </tbody>\n",
       "</table>\n",
       "</div>"
      ],
      "text/plain": [
       "                          name online_order book_table rate  votes  \\\n",
       "3068       House of Tasty Food           No         No    -      0   \n",
       "3373               Right Pizza          Yes         No    -      0   \n",
       "3378  Mezban Family Restaurant          Yes         No    -      0   \n",
       "3387             Mota Bawarchi           No         No    -      0   \n",
       "3396                Aahar Cafe           No         No    -      0   \n",
       "\n",
       "           location    rest_type                          cuisines  \\\n",
       "3068  Wilson Garden  Quick Bites                      North Indian   \n",
       "3373   Basavanagudi  Quick Bites                             Pizza   \n",
       "3378   Basavanagudi  Quick Bites             Chinese, North Indian   \n",
       "3387   Basavanagudi  Quick Bites  North Indian, Biryani, Fast Food   \n",
       "3396   Basavanagudi  Quick Bites                      South Indian   \n",
       "\n",
       "     approx_cost(for two people)  \\\n",
       "3068                         400   \n",
       "3373                         300   \n",
       "3378                         300   \n",
       "3387                         300   \n",
       "3396                         100   \n",
       "\n",
       "                                           reviews_list menu_item  \\\n",
       "3068                                                 []        []   \n",
       "3373                                                 []        []   \n",
       "3378  [('Rated 5.0', 'RATED\\n  Food was delicious es...        []   \n",
       "3387                                                 []        []   \n",
       "3396  [('Rated 1.0', 'RATED\\n  Ververy bad.....not g...        []   \n",
       "\n",
       "     listed_in(type)  \n",
       "3068        Delivery  \n",
       "3373        Dine-out  \n",
       "3378        Dine-out  \n",
       "3387        Dine-out  \n",
       "3396        Dine-out  "
      ]
     },
     "execution_count": 22,
     "metadata": {},
     "output_type": "execute_result"
    }
   ],
   "source": [
    "data.loc[data['rate'] == '-'].head(5)"
   ]
  },
  {
   "cell_type": "markdown",
   "id": "b0d4aa68",
   "metadata": {},
   "source": [
    "There are about 65 such rows, we will drop these 65 rows because the value for 'rate' column is '-'"
   ]
  },
  {
   "cell_type": "code",
   "execution_count": 23,
   "id": "0848d5ce",
   "metadata": {},
   "outputs": [
    {
     "data": {
      "text/plain": [
       "array(['4.1/5', '3.8/5', '3.7/5', '3.6/5', '4.6/5', '4.0/5', '4.2/5',\n",
       "       '3.9/5', '3.1/5', '3.0/5', '3.2/5', '3.3/5', '2.8/5', '4.4/5',\n",
       "       '4.3/5', '2.5 /5', '2.9/5', '3.5/5', '2.6/5', '3.8 /5', '3.4/5',\n",
       "       '4.5/5', '2.5/5', '2.7/5', '4.7/5', '2.4/5', '2.2/5', '2.3/5',\n",
       "       '3.4 /5', '3.6 /5', '4.8/5', '3.9 /5', '4.2 /5', '4.0 /5',\n",
       "       '4.1 /5', '3.7 /5', '3.1 /5', '2.9 /5', '3.3 /5', '2.8 /5',\n",
       "       '3.5 /5', '2.7 /5', '3.2 /5', '2.6 /5', '4.5 /5', '4.3 /5',\n",
       "       '4.4 /5', '4.9/5', '2.1/5', '2.0/5', '1.8/5', '4.6 /5', '4.9 /5',\n",
       "       '3.0 /5', '4.8 /5', '2.3 /5', '4.7 /5', '2.4 /5', '2.1 /5',\n",
       "       '2.2 /5', '2.0 /5', '1.8 /5'], dtype=object)"
      ]
     },
     "execution_count": 23,
     "metadata": {},
     "output_type": "execute_result"
    }
   ],
   "source": [
    "a = data.loc[data['rate'] == '-'].index \n",
    "data.drop(a, axis = 0, inplace = True)\n",
    "\n",
    "data['rate'].unique()"
   ]
  },
  {
   "cell_type": "markdown",
   "id": "eabb9ddb",
   "metadata": {},
   "source": [
    "Now we can see all the unique values present are scores out of 5. But still there is a problem which we have not solved. Think about it for a while.\n",
    "\n",
    "The problem is that the given scores are out of 5 and that the data type is string. So first we will need to store only the scores and then convert into float datatype."
   ]
  },
  {
   "cell_type": "code",
   "execution_count": 24,
   "id": "4ca6b121",
   "metadata": {},
   "outputs": [
    {
     "data": {
      "text/plain": [
       "array(['4.1', '3.8', '3.7', '3.6', '4.6', '4.0', '4.2', '3.9', '3.1',\n",
       "       '3.0', '3.2', '3.3', '2.8', '4.4', '4.3', '2.5 ', '2.9', '3.5',\n",
       "       '2.6', '3.8 ', '3.4', '4.5', '2.5', '2.7', '4.7', '2.4', '2.2',\n",
       "       '2.3', '3.4 ', '3.6 ', '4.8', '3.9 ', '4.2 ', '4.0 ', '4.1 ',\n",
       "       '3.7 ', '3.1 ', '2.9 ', '3.3 ', '2.8 ', '3.5 ', '2.7 ', '3.2 ',\n",
       "       '2.6 ', '4.5 ', '4.3 ', '4.4 ', '4.9', '2.1', '2.0', '1.8', '4.6 ',\n",
       "       '4.9 ', '3.0 ', '4.8 ', '2.3 ', '4.7 ', '2.4 ', '2.1 ', '2.2 ',\n",
       "       '2.0 ', '1.8 '], dtype=object)"
      ]
     },
     "execution_count": 24,
     "metadata": {},
     "output_type": "execute_result"
    }
   ],
   "source": [
    "data['rate'] = data['rate'].apply(lambda x : x.split('/')[0])\n",
    "data['rate'].unique()"
   ]
  },
  {
   "cell_type": "markdown",
   "id": "048b6ac3",
   "metadata": {},
   "source": [
    "For some values, there is still a blank after the end of the string like '3.4 '. We will need to remove such spaces"
   ]
  },
  {
   "cell_type": "code",
   "execution_count": 25,
   "id": "e6ffc769",
   "metadata": {},
   "outputs": [
    {
     "data": {
      "text/plain": [
       "array(['4.1', '3.8', '3.7', '3.6', '4.6', '4.0', '4.2', '3.9', '3.1',\n",
       "       '3.0', '3.2', '3.3', '2.8', '4.4', '4.3', '2.5', '2.9', '3.5',\n",
       "       '2.6', '3.4', '4.5', '2.7', '4.7', '2.4', '2.2', '2.3', '4.8',\n",
       "       '4.9', '2.1', '2.0', '1.8'], dtype=object)"
      ]
     },
     "execution_count": 25,
     "metadata": {},
     "output_type": "execute_result"
    }
   ],
   "source": [
    "data['rate'] = data['rate'].apply(lambda x : x.split(' ')[0])\n",
    "data['rate'].unique()"
   ]
  },
  {
   "cell_type": "markdown",
   "id": "3ce97225",
   "metadata": {},
   "source": [
    "Perfect, after performing all the above steps we can finally convert the column values from string to float datatype."
   ]
  },
  {
   "cell_type": "code",
   "execution_count": 26,
   "id": "de767d89",
   "metadata": {},
   "outputs": [
    {
     "name": "stdout",
     "output_type": "stream",
     "text": [
      "float64\n"
     ]
    }
   ],
   "source": [
    "data = data.astype({'rate' : float})\n",
    "print(data['rate'].dtype)"
   ]
  },
  {
   "cell_type": "markdown",
   "id": "a9e96190",
   "metadata": {},
   "source": [
    "We have successfully converted the 'rate' column values to float."
   ]
  },
  {
   "cell_type": "code",
   "execution_count": 27,
   "id": "c8b5e7af",
   "metadata": {},
   "outputs": [
    {
     "name": "stderr",
     "output_type": "stream",
     "text": [
      "C:\\Users\\Prapti\\anaconda3\\lib\\site-packages\\seaborn\\distributions.py:2619: FutureWarning: `distplot` is a deprecated function and will be removed in a future version. Please adapt your code to use either `displot` (a figure-level function with similar flexibility) or `histplot` (an axes-level function for histograms).\n",
      "  warnings.warn(msg, FutureWarning)\n"
     ]
    },
    {
     "data": {
      "text/plain": [
       "<AxesSubplot:xlabel='rate', ylabel='Density'>"
      ]
     },
     "execution_count": 27,
     "metadata": {},
     "output_type": "execute_result"
    },
    {
     "data": {
      "image/png": "[encoded data removed]",
      "text/plain": [
       "<Figure size 720x720 with 1 Axes>"
      ]
     },
     "metadata": {
      "needs_background": "light"
     },
     "output_type": "display_data"
    }
   ],
   "source": [
    "plt.figure(figsize = (10, 10))\n",
    "sns.distplot(data['rate'], color = 'red')"
   ]
  },
  {
   "cell_type": "markdown",
   "id": "83358bd1",
   "metadata": {},
   "source": [
    "As discussed before '2.5' represents the 'NEW' restaurants, and there were about 9800 restaurants that were NEW, that's why the above distribution is multi-modal. If we ignore the 'NEW' Restaurants we can observe that the graph resembles bell-shape i.e it's normally distributed."
   ]
  },
  {
   "cell_type": "code",
   "execution_count": 28,
   "id": "9485e533",
   "metadata": {},
   "outputs": [
    {
     "name": "stderr",
     "output_type": "stream",
     "text": [
      "C:\\Users\\Prapti\\anaconda3\\lib\\site-packages\\seaborn\\_decorators.py:36: FutureWarning: Pass the following variable as a keyword arg: x. From version 0.12, the only valid positional argument will be `data`, and passing other arguments without an explicit keyword will result in an error or misinterpretation.\n",
      "  warnings.warn(\n"
     ]
    },
    {
     "data": {
      "text/plain": [
       "<AxesSubplot:xlabel='rate', ylabel='count'>"
      ]
     },
     "execution_count": 28,
     "metadata": {},
     "output_type": "execute_result"
    },
    {
     "data": {
      "image/png": "[encoded data removed]",
      "text/plain": [
       "<Figure size 720x720 with 1 Axes>"
      ]
     },
     "metadata": {
      "needs_background": "light"
     },
     "output_type": "display_data"
    }
   ],
   "source": [
    "plt.figure(figsize = (10, 10))\n",
    "sns.countplot(data['rate'], color = 'crimson')"
   ]
  },
  {
   "cell_type": "markdown",
   "id": "7d13530e",
   "metadata": {},
   "source": [
    "Maximum of the restaurants are pretty NEW. Apart from the recently opened restaurants, most of the Restaurants received 3.9 rating, followed by 3.7 and 3.8. Only a few restaurants have 4.8 or 4.9 rating. Let's see which are these restaurants."
   ]
  },
  {
   "cell_type": "code",
   "execution_count": 29,
   "id": "0fc91cdf",
   "metadata": {},
   "outputs": [
    {
     "name": "stdout",
     "output_type": "stream",
     "text": [
      "Restaurants having the highest ratings are : \n",
      " [\"Brahmin's Coffee Bar\" 'The Black Pearl' 'Byg Brewski Brewing Company'\n",
      " 'Belgian Waffle Factory' \"AB's - Absolute Barbecues\" 'Flechazo'\n",
      " 'Punjab Grill' 'Asia Kitchen By Mainland China' 'House Of Commons'\n",
      " 'The Pizza Bakery' 'Milano Ice Cream' 'Barbeque Nation' 'Biergarten'\n",
      " \"Chili's American Grill & Bar\" 'O.G. Variar & Sons' 'The Globe Grub'\n",
      " 'The Boozy Griffin'\n",
      " 'SantÃ\\x83Â\\x83Ã\\x82Â\\x83Ã\\x83Â\\x82Ã\\x82Â\\x83Ã\\x83Â\\x83Ã\\x82Â\\x82Ã\\x83Â\\x82Ã\\x82Â\\x83Ã\\x83Â\\x83Ã\\x82Â\\x83Ã\\x83Â\\x82Ã\\x82Â\\x82Ã\\x83Â\\x83Ã\\x82Â\\x82Ã\\x83Â\\x82Ã\\x82Â© Spa Cuisine'\n",
      " 'CTR' 'Barbecue by Punjab Grill']\n"
     ]
    }
   ],
   "source": [
    "print(\"Restaurants having the highest ratings are : \\n\", data.loc[(data['rate'] == 4.8) | (data['rate'] == 4.9)]['name'].unique())"
   ]
  },
  {
   "cell_type": "markdown",
   "id": "b3db2f7f",
   "metadata": {},
   "source": [
    "As expected, these are restaurant chains that are present all around the globe. These restaurants are pretty amazing that's why they have the highest rating.\n",
    "\n",
    "Note: The one restaurant having such a large name must have been parsed incorrectly by the creator."
   ]
  },
  {
   "cell_type": "markdown",
   "id": "26ba252a",
   "metadata": {},
   "source": [
    "# Name"
   ]
  },
  {
   "cell_type": "markdown",
   "id": "f794895c",
   "metadata": {},
   "source": [
    "The same restaurant chain can be present at different location. Let's first check the number of unique restaurant present in the city."
   ]
  },
  {
   "cell_type": "code",
   "execution_count": 30,
   "id": "fd3f8815",
   "metadata": {},
   "outputs": [
    {
     "name": "stdout",
     "output_type": "stream",
     "text": [
      "Total number of restaurants in Bengaluru are:  8720\n"
     ]
    }
   ],
   "source": [
    "print(\"Total number of restaurants in Bengaluru are: \", len(data['name'].unique()))"
   ]
  },
  {
   "cell_type": "markdown",
   "id": "54fe3711",
   "metadata": {},
   "source": [
    "Let's see which restaurant have the highest number of outlets across the city.\n",
    "\n",
    "Before we use code to find out, let's guess first which kind of restaurants can have the highest number of outlets. Most probably some coffe chain, or ice-cream chain or sweet shop or famous pizza chain like Dominos or Pizza Hut will be having the maximum number of outlets."
   ]
  },
  {
   "cell_type": "code",
   "execution_count": 31,
   "id": "398c821f",
   "metadata": {},
   "outputs": [
    {
     "data": {
      "text/plain": [
       "<AxesSubplot:>"
      ]
     },
     "execution_count": 31,
     "metadata": {},
     "output_type": "execute_result"
    },
    {
     "data": {
      "image/png": "[encoded data removed]",
      "text/plain": [
       "<Figure size 432x432 with 1 Axes>"
      ]
     },
     "metadata": {
      "needs_background": "light"
     },
     "output_type": "display_data"
    }
   ],
   "source": [
    "plt.figure(figsize = (6, 6))\n",
    "data['name'].value_counts().head(10)\n",
    "index = data['name'].value_counts().head(10).index\n",
    "values = data['name'].value_counts().head(10).values\n",
    "g = sns.barplot(x = index, y = values, data = data)\n",
    "g.set_xticklabels(labels = index, rotation = 90)\n",
    "g"
   ]
  },
  {
   "cell_type": "markdown",
   "id": "a796a9c5",
   "metadata": {},
   "source": [
    "Boom, our guess was pretty accurate. Cafe Coffee Day(a coffee chain) had the maximum number of outlets. Sweet shops like Kanti sweet or pizza chains like Pizza Hut also have a lot of outlets across the city.\n",
    "\n",
    "Having a large number of outlets does not gurantee a higher rating. Let's see which restaurant chain have the highest rating grouping by their name."
   ]
  },
  {
   "cell_type": "code",
   "execution_count": 32,
   "id": "6d02bb9e",
   "metadata": {},
   "outputs": [
    {
     "data": {
      "text/plain": [
       "name\n",
       "Byg Brewski Brewing Company                                                         4.900000\n",
       "Asia Kitchen By Mainland China                                                      4.900000\n",
       "SantÃÂÃÂÃÂÃÂÃÂÃÂÃÂÃÂÃÂÃÂÃÂÃÂÃÂÃÂÃÂÃÂ© Spa Cuisine    4.900000\n",
       "Punjab Grill                                                                        4.871429\n",
       "Belgian Waffle Factory                                                              4.844828\n",
       "O.G. Variar & Sons                                                                  4.800000\n",
       "Flechazo                                                                            4.800000\n",
       "The Pizza Bakery                                                                    4.800000\n",
       "AB's - Absolute Barbecues                                                           4.789474\n",
       "CTR                                                                                 4.750000\n",
       "Barbecue by Punjab Grill                                                            4.750000\n",
       "The Black Pearl                                                                     4.727778\n",
       "House Of Commons                                                                    4.723810\n",
       "Toit                                                                                4.700000\n",
       "You Mee                                                                             4.700000\n",
       "Name: rate, dtype: float64"
      ]
     },
     "execution_count": 32,
     "metadata": {},
     "output_type": "execute_result"
    }
   ],
   "source": [
    "data.groupby('name')['rate'].mean().sort_values(ascending = False).head(15)"
   ]
  },
  {
   "cell_type": "markdown",
   "id": "030f9f32",
   "metadata": {},
   "source": [
    "We can see that the top 15 restaurants by ratings are completely different from those which have the highest number of outlets."
   ]
  },
  {
   "cell_type": "code",
   "execution_count": 33,
   "id": "064e780f",
   "metadata": {},
   "outputs": [
    {
     "name": "stderr",
     "output_type": "stream",
     "text": [
      "C:\\Users\\Prapti\\AppData\\Local\\Temp/ipykernel_16064/3141099000.py:1: FutureWarning: Indexing with multiple keys (implicitly converted to a tuple of keys) will be deprecated, use a list instead.\n",
      "  data.groupby('name')['votes', 'rate'].max().sort_values(ascending = False, by ='votes').head(15)\n"
     ]
    },
    {
     "data": {
      "text/html": [
       "<div>\n",
       "<style scoped>\n",
       "    .dataframe tbody tr th:only-of-type {\n",
       "        vertical-align: middle;\n",
       "    }\n",
       "\n",
       "    .dataframe tbody tr th {\n",
       "        vertical-align: top;\n",
       "    }\n",
       "\n",
       "    .dataframe thead th {\n",
       "        text-align: right;\n",
       "    }\n",
       "</style>\n",
       "<table border=\"1\" class=\"dataframe\">\n",
       "  <thead>\n",
       "    <tr style=\"text-align: right;\">\n",
       "      <th></th>\n",
       "      <th>votes</th>\n",
       "      <th>rate</th>\n",
       "    </tr>\n",
       "    <tr>\n",
       "      <th>name</th>\n",
       "      <th></th>\n",
       "      <th></th>\n",
       "    </tr>\n",
       "  </thead>\n",
       "  <tbody>\n",
       "    <tr>\n",
       "      <th>Byg Brewski Brewing Company</th>\n",
       "      <td>16832</td>\n",
       "      <td>4.9</td>\n",
       "    </tr>\n",
       "    <tr>\n",
       "      <th>Toit</th>\n",
       "      <td>14956</td>\n",
       "      <td>4.7</td>\n",
       "    </tr>\n",
       "    <tr>\n",
       "      <th>Truffles</th>\n",
       "      <td>14726</td>\n",
       "      <td>4.7</td>\n",
       "    </tr>\n",
       "    <tr>\n",
       "      <th>AB's - Absolute Barbecues</th>\n",
       "      <td>12121</td>\n",
       "      <td>4.9</td>\n",
       "    </tr>\n",
       "    <tr>\n",
       "      <th>The Black Pearl</th>\n",
       "      <td>10550</td>\n",
       "      <td>4.8</td>\n",
       "    </tr>\n",
       "    <tr>\n",
       "      <th>Big Pitcher</th>\n",
       "      <td>9300</td>\n",
       "      <td>4.7</td>\n",
       "    </tr>\n",
       "    <tr>\n",
       "      <th>Onesta</th>\n",
       "      <td>9085</td>\n",
       "      <td>4.6</td>\n",
       "    </tr>\n",
       "    <tr>\n",
       "      <th>Arbor Brewing Company</th>\n",
       "      <td>8419</td>\n",
       "      <td>4.5</td>\n",
       "    </tr>\n",
       "    <tr>\n",
       "      <th>Empire Restaurant</th>\n",
       "      <td>8304</td>\n",
       "      <td>4.4</td>\n",
       "    </tr>\n",
       "    <tr>\n",
       "      <th>Prost Brew Pub</th>\n",
       "      <td>7871</td>\n",
       "      <td>4.5</td>\n",
       "    </tr>\n",
       "    <tr>\n",
       "      <th>Church Street Social</th>\n",
       "      <td>7584</td>\n",
       "      <td>4.3</td>\n",
       "    </tr>\n",
       "    <tr>\n",
       "      <th>Hoot</th>\n",
       "      <td>7330</td>\n",
       "      <td>4.2</td>\n",
       "    </tr>\n",
       "    <tr>\n",
       "      <th>Barbeque Nation</th>\n",
       "      <td>7270</td>\n",
       "      <td>4.8</td>\n",
       "    </tr>\n",
       "    <tr>\n",
       "      <th>Meghana Foods</th>\n",
       "      <td>7238</td>\n",
       "      <td>4.5</td>\n",
       "    </tr>\n",
       "    <tr>\n",
       "      <th>Flechazo</th>\n",
       "      <td>7154</td>\n",
       "      <td>4.9</td>\n",
       "    </tr>\n",
       "  </tbody>\n",
       "</table>\n",
       "</div>"
      ],
      "text/plain": [
       "                             votes  rate\n",
       "name                                    \n",
       "Byg Brewski Brewing Company  16832   4.9\n",
       "Toit                         14956   4.7\n",
       "Truffles                     14726   4.7\n",
       "AB's - Absolute Barbecues    12121   4.9\n",
       "The Black Pearl              10550   4.8\n",
       "Big Pitcher                   9300   4.7\n",
       "Onesta                        9085   4.6\n",
       "Arbor Brewing Company         8419   4.5\n",
       "Empire Restaurant             8304   4.4\n",
       "Prost Brew Pub                7871   4.5\n",
       "Church Street Social          7584   4.3\n",
       "Hoot                          7330   4.2\n",
       "Barbeque Nation               7270   4.8\n",
       "Meghana Foods                 7238   4.5\n",
       "Flechazo                      7154   4.9"
      ]
     },
     "execution_count": 33,
     "metadata": {},
     "output_type": "execute_result"
    }
   ],
   "source": [
    "data.groupby('name')['votes', 'rate'].max().sort_values(ascending = False, by ='votes').head(15)"
   ]
  },
  {
   "cell_type": "markdown",
   "id": "2b7c0dd6",
   "metadata": {},
   "source": [
    "Above are the 15 restaurants that have got the highest number of user votes. The ratings for these restaurants are also very high as expected. More votes most probably leads to better rating."
   ]
  },
  {
   "cell_type": "code",
   "execution_count": 34,
   "id": "88e17df4",
   "metadata": {},
   "outputs": [
    {
     "data": {
      "text/plain": [
       "{'Byg Brewski Brewing Company': ['Sarjapur Road'],\n",
       " 'Asia Kitchen By Mainland China': ['Koramangala 5th Block'],\n",
       " 'SantÃ\\x83Â\\x83Ã\\x82Â\\x83Ã\\x83Â\\x82Ã\\x82Â\\x83Ã\\x83Â\\x83Ã\\x82Â\\x82Ã\\x83Â\\x82Ã\\x82Â\\x83Ã\\x83Â\\x83Ã\\x82Â\\x83Ã\\x83Â\\x82Ã\\x82Â\\x82Ã\\x83Â\\x83Ã\\x82Â\\x82Ã\\x83Â\\x82Ã\\x82Â© Spa Cuisine': ['Indiranagar'],\n",
       " 'Punjab Grill': ['Whitefield', 'Malleshwaram'],\n",
       " 'Belgian Waffle Factory': ['Brigade Road',\n",
       "  'Koramangala 5th Block',\n",
       "  'Vasanth Nagar',\n",
       "  'Kalyan Nagar'],\n",
       " 'O.G. Variar & Sons': ['Rajajinagar'],\n",
       " 'Flechazo': ['Whitefield', 'Marathahalli'],\n",
       " 'The Pizza Bakery': ['Indiranagar'],\n",
       " \"AB's - Absolute Barbecues\": ['Sarjapur Road',\n",
       "  'Whitefield',\n",
       "  'BTM',\n",
       "  'Kalyan Nagar',\n",
       "  'Marathahalli'],\n",
       " 'CTR': ['Malleshwaram'],\n",
       " 'Barbecue by Punjab Grill': ['Malleshwaram'],\n",
       " 'The Black Pearl': ['Marathahalli', 'Koramangala 5th Block'],\n",
       " 'House Of Commons': ['Koramangala 5th Block', 'HSR'],\n",
       " 'Toit': ['Indiranagar'],\n",
       " 'You Mee': ['Whitefield']}"
      ]
     },
     "execution_count": 34,
     "metadata": {},
     "output_type": "execute_result"
    }
   ],
   "source": [
    "names = data.groupby('name')['rate'].mean().sort_values(ascending = False).head(15).index\n",
    "locations = []\n",
    "for i in names:\n",
    "    loc = []\n",
    "    locations.append(data.loc[data['name'] == i]['location'].unique().tolist())\n",
    "name_location = dict(zip(names, locations))\n",
    "name_location"
   ]
  },
  {
   "cell_type": "markdown",
   "id": "a8a30565",
   "metadata": {},
   "source": [
    "Above is a list of the top 15 restaurants by rating and the locations where they are present."
   ]
  },
  {
   "cell_type": "markdown",
   "id": "fdc2b3d1",
   "metadata": {},
   "source": [
    "# Online Order"
   ]
  },
  {
   "cell_type": "code",
   "execution_count": 35,
   "id": "eb372678",
   "metadata": {},
   "outputs": [
    {
     "data": {
      "text/plain": [
       "array(['Yes', 'No'], dtype=object)"
      ]
     },
     "execution_count": 35,
     "metadata": {},
     "output_type": "execute_result"
    }
   ],
   "source": [
    "data['online_order'].unique()"
   ]
  },
  {
   "cell_type": "markdown",
   "id": "44dfa218",
   "metadata": {},
   "source": [
    "The unique values for 'online_order' columns are 'Yes' or 'No'. These values needs to be converted to numerical 1 or 0."
   ]
  },
  {
   "cell_type": "code",
   "execution_count": 36,
   "id": "f61d01e4",
   "metadata": {},
   "outputs": [],
   "source": [
    "# Converting to integer data type.\n",
    "data['online_order'].replace({'Yes' : 1, 'No' : 0}, inplace =True)"
   ]
  },
  {
   "cell_type": "code",
   "execution_count": 37,
   "id": "77c0f464",
   "metadata": {},
   "outputs": [
    {
     "name": "stderr",
     "output_type": "stream",
     "text": [
      "C:\\Users\\Prapti\\anaconda3\\lib\\site-packages\\seaborn\\_decorators.py:36: FutureWarning: Pass the following variable as a keyword arg: x. From version 0.12, the only valid positional argument will be `data`, and passing other arguments without an explicit keyword will result in an error or misinterpretation.\n",
      "  warnings.warn(\n"
     ]
    },
    {
     "data": {
      "text/plain": [
       "<AxesSubplot:xlabel='online_order', ylabel='count'>"
      ]
     },
     "execution_count": 37,
     "metadata": {},
     "output_type": "execute_result"
    },
    {
     "data": {
      "image/png": "[encoded data removed]",
      "text/plain": [
       "<Figure size 504x504 with 1 Axes>"
      ]
     },
     "metadata": {
      "needs_background": "light"
     },
     "output_type": "display_data"
    }
   ],
   "source": [
    "plt.figure(figsize = (7, 7,))\n",
    "sns.countplot(data['online_order'])"
   ]
  },
  {
   "cell_type": "code",
   "execution_count": 38,
   "id": "41970ee2",
   "metadata": {},
   "outputs": [
    {
     "data": {
      "text/html": [
       "<style type=\"text/css\">\n",
       "#T_d6a2a_row0_col0 {\n",
       "  background-color: #00ffff;\n",
       "  color: #000000;\n",
       "}\n",
       "#T_d6a2a_row1_col0 {\n",
       "  background-color: #b6f5f5;\n",
       "  color: #000000;\n",
       "}\n",
       "#T_d6a2a_row2_col0 {\n",
       "  background-color: #e8f3f3;\n",
       "  color: #000000;\n",
       "}\n",
       "</style>\n",
       "<table id=\"T_d6a2a_\">\n",
       "  <thead>\n",
       "    <tr>\n",
       "      <th class=\"blank level0\" >&nbsp;</th>\n",
       "      <th class=\"col_heading level0 col0\" >rate</th>\n",
       "    </tr>\n",
       "  </thead>\n",
       "  <tbody>\n",
       "    <tr>\n",
       "      <th id=\"T_d6a2a_level0_row0\" class=\"row_heading level0 row0\" >rate</th>\n",
       "      <td id=\"T_d6a2a_row0_col0\" class=\"data row0 col0\" >1.000000</td>\n",
       "    </tr>\n",
       "    <tr>\n",
       "      <th id=\"T_d6a2a_level0_row1\" class=\"row_heading level0 row1\" >votes</th>\n",
       "      <td id=\"T_d6a2a_row1_col0\" class=\"data row1 col0\" >0.406135</td>\n",
       "    </tr>\n",
       "    <tr>\n",
       "      <th id=\"T_d6a2a_level0_row2\" class=\"row_heading level0 row2\" >online_order</th>\n",
       "      <td id=\"T_d6a2a_row2_col0\" class=\"data row2 col0\" >0.242004</td>\n",
       "    </tr>\n",
       "  </tbody>\n",
       "</table>\n"
      ],
      "text/plain": [
       "<pandas.io.formats.style.Styler at 0x1a8000d8b50>"
      ]
     },
     "execution_count": 38,
     "metadata": {},
     "output_type": "execute_result"
    }
   ],
   "source": [
    "correlation = data.corr()['rate'].sort_values(ascending = False).to_frame().head(10)\n",
    "\n",
    "cmap = sns.light_palette(\"cyan\", as_cmap = True)\n",
    "\n",
    "s = correlation.style.background_gradient(cmap = cmap)\n",
    "\n",
    "s"
   ]
  },
  {
   "cell_type": "markdown",
   "id": "86700756",
   "metadata": {},
   "source": [
    "Correlation of 'rating' with 'online_table' is 0.242."
   ]
  },
  {
   "cell_type": "code",
   "execution_count": 39,
   "id": "08d5224a",
   "metadata": {},
   "outputs": [
    {
     "data": {
      "text/plain": [
       "<AxesSubplot:xlabel='online_order', ylabel='rate'>"
      ]
     },
     "execution_count": 39,
     "metadata": {},
     "output_type": "execute_result"
    },
    {
     "data": {
      "image/png": "[encoded data removed]",
      "text/plain": [
       "<Figure size 432x288 with 1 Axes>"
      ]
     },
     "metadata": {
      "needs_background": "light"
     },
     "output_type": "display_data"
    }
   ],
   "source": [
    "sns.boxplot(x = 'online_order', y = 'rate', data= data)"
   ]
  },
  {
   "cell_type": "markdown",
   "id": "084e55ab",
   "metadata": {},
   "source": [
    "We can observe from the above plot that those restaurants which offer online order has a higher median rating as compared to those restaurants that don't.\n",
    "\n",
    "As IQR for restaurants offering online order is much less than that of restaurants not offering online order, we can say that restaurants offering online order has better ratings in general."
   ]
  },
  {
   "cell_type": "markdown",
   "id": "68dd8635",
   "metadata": {},
   "source": [
    "# Book Table "
   ]
  },
  {
   "cell_type": "code",
   "execution_count": 40,
   "id": "47477ad2",
   "metadata": {},
   "outputs": [
    {
     "data": {
      "text/plain": [
       "array(['Yes', 'No'], dtype=object)"
      ]
     },
     "execution_count": 40,
     "metadata": {},
     "output_type": "execute_result"
    }
   ],
   "source": [
    "data['book_table'].unique()"
   ]
  },
  {
   "cell_type": "markdown",
   "id": "8d4ddcf0",
   "metadata": {},
   "source": [
    "Again we will need to change 'Yes' or 'No' to 1 or 0 respectively."
   ]
  },
  {
   "cell_type": "code",
   "execution_count": 41,
   "id": "ef20429b",
   "metadata": {},
   "outputs": [],
   "source": [
    "data['book_table'].replace({'Yes' : 1, 'No' : 0}, inplace = True)"
   ]
  },
  {
   "cell_type": "code",
   "execution_count": 42,
   "id": "cff73979",
   "metadata": {},
   "outputs": [
    {
     "data": {
      "text/html": [
       "<style type=\"text/css\">\n",
       "#T_07963_row0_col0 {\n",
       "  background-color: #ff0000;\n",
       "  color: #f1f1f1;\n",
       "}\n",
       "#T_07963_row1_col0 {\n",
       "  background-color: #f5bcbc;\n",
       "  color: #000000;\n",
       "}\n",
       "#T_07963_row2_col0 {\n",
       "  background-color: #f5c1c1;\n",
       "  color: #000000;\n",
       "}\n",
       "#T_07963_row3_col0 {\n",
       "  background-color: #f3f0f0;\n",
       "  color: #000000;\n",
       "}\n",
       "</style>\n",
       "<table id=\"T_07963_\">\n",
       "  <thead>\n",
       "    <tr>\n",
       "      <th class=\"blank level0\" >&nbsp;</th>\n",
       "      <th class=\"col_heading level0 col0\" >rate</th>\n",
       "    </tr>\n",
       "  </thead>\n",
       "  <tbody>\n",
       "    <tr>\n",
       "      <th id=\"T_07963_level0_row0\" class=\"row_heading level0 row0\" >rate</th>\n",
       "      <td id=\"T_07963_row0_col0\" class=\"data row0 col0\" >1.000000</td>\n",
       "    </tr>\n",
       "    <tr>\n",
       "      <th id=\"T_07963_level0_row1\" class=\"row_heading level0 row1\" >votes</th>\n",
       "      <td id=\"T_07963_row1_col0\" class=\"data row1 col0\" >0.406135</td>\n",
       "    </tr>\n",
       "    <tr>\n",
       "      <th id=\"T_07963_level0_row2\" class=\"row_heading level0 row2\" >book_table</th>\n",
       "      <td id=\"T_07963_row2_col0\" class=\"data row2 col0\" >0.391537</td>\n",
       "    </tr>\n",
       "    <tr>\n",
       "      <th id=\"T_07963_level0_row3\" class=\"row_heading level0 row3\" >online_order</th>\n",
       "      <td id=\"T_07963_row3_col0\" class=\"data row3 col0\" >0.242004</td>\n",
       "    </tr>\n",
       "  </tbody>\n",
       "</table>\n"
      ],
      "text/plain": [
       "<pandas.io.formats.style.Styler at 0x1a800113fa0>"
      ]
     },
     "execution_count": 42,
     "metadata": {},
     "output_type": "execute_result"
    }
   ],
   "source": [
    "correlation = data.corr()['rate'].sort_values(ascending = False).to_frame().head(10)\n",
    "\n",
    "cmap = sns.light_palette(\"red\", as_cmap = True)\n",
    "\n",
    "s = correlation.style.background_gradient(cmap = cmap)\n",
    "\n",
    "s"
   ]
  },
  {
   "cell_type": "markdown",
   "id": "4fb54882",
   "metadata": {},
   "source": [
    "Book_table has a correlation of 0.39 with the ratings given."
   ]
  },
  {
   "cell_type": "code",
   "execution_count": 43,
   "id": "f460da41",
   "metadata": {},
   "outputs": [
    {
     "name": "stderr",
     "output_type": "stream",
     "text": [
      "C:\\Users\\Prapti\\anaconda3\\lib\\site-packages\\seaborn\\_decorators.py:36: FutureWarning: Pass the following variable as a keyword arg: x. From version 0.12, the only valid positional argument will be `data`, and passing other arguments without an explicit keyword will result in an error or misinterpretation.\n",
      "  warnings.warn(\n"
     ]
    },
    {
     "data": {
      "text/plain": [
       "<AxesSubplot:xlabel='book_table', ylabel='count'>"
      ]
     },
     "execution_count": 43,
     "metadata": {},
     "output_type": "execute_result"
    },
    {
     "data": {
      "image/png": "[encoded data removed]",
      "text/plain": [
       "<Figure size 504x504 with 1 Axes>"
      ]
     },
     "metadata": {
      "needs_background": "light"
     },
     "output_type": "display_data"
    }
   ],
   "source": [
    "plt.figure(figsize = (7, 7))\n",
    "sns.countplot(data['book_table'])"
   ]
  },
  {
   "cell_type": "markdown",
   "id": "7e5bef73",
   "metadata": {},
   "source": [
    "Wow, only 7500 restaurants books a table in advance. Rest of the 43000 restaurants don't book table in advance. Let's see if this affects the rating of the restaurant."
   ]
  },
  {
   "cell_type": "code",
   "execution_count": 44,
   "id": "49bb3194",
   "metadata": {},
   "outputs": [
    {
     "data": {
      "text/plain": [
       "<AxesSubplot:xlabel='book_table', ylabel='rate'>"
      ]
     },
     "execution_count": 44,
     "metadata": {},
     "output_type": "execute_result"
    },
    {
     "data": {
      "image/png": "[encoded data removed]",
      "text/plain": [
       "<Figure size 432x288 with 1 Axes>"
      ]
     },
     "metadata": {
      "needs_background": "light"
     },
     "output_type": "display_data"
    }
   ],
   "source": [
    "sns.boxplot(x = 'book_table', y = 'rate', data = data)"
   ]
  },
  {
   "cell_type": "markdown",
   "id": "1ce51737",
   "metadata": {},
   "source": [
    "Eventhough there are some outliers for the book_table class, we can see that the lower whisker of '1''s boxplots which represents the minimum rating of the restaurants that book table in advance, is greater than the 50th percentile value or the median of the ratings of the restaurants that don't book table in advance.\n",
    "\n",
    "Some restaurants that don't book table in advance also have ratings close to 5. The IQR for '1' boxplot is quite small which represents small variation of the ratings around median. Therefore, if the restaurants offer to book table in advance, more ratings are given."
   ]
  },
  {
   "cell_type": "markdown",
   "id": "ffc13a7c",
   "metadata": {},
   "source": [
    "# Approx Cost"
   ]
  },
  {
   "cell_type": "markdown",
   "id": "abaf3885",
   "metadata": {},
   "source": [
    "Votes contains total number of rating for the restaurant."
   ]
  },
  {
   "cell_type": "code",
   "execution_count": 45,
   "id": "85b72f7e",
   "metadata": {},
   "outputs": [
    {
     "name": "stdout",
     "output_type": "stream",
     "text": [
      "Data type for Approximate cost is:  object\n"
     ]
    }
   ],
   "source": [
    "print(\"Data type for Approximate cost is: \", data['approx_cost(for two people)'].dtype)"
   ]
  },
  {
   "cell_type": "markdown",
   "id": "40a6c0df",
   "metadata": {},
   "source": [
    "We have to convert it into integer.\n",
    "\n",
    "There are values like '1,200' we need to first convert such strings to '1200' then to 1200."
   ]
  },
  {
   "cell_type": "code",
   "execution_count": 46,
   "id": "f60fd739",
   "metadata": {},
   "outputs": [],
   "source": [
    "data['approx_cost(for two people)'] = data['approx_cost(for two people)'].apply(lambda x : x.replace(',',''))"
   ]
  },
  {
   "cell_type": "code",
   "execution_count": 47,
   "id": "c07b2366",
   "metadata": {},
   "outputs": [
    {
     "name": "stdout",
     "output_type": "stream",
     "text": [
      "int32\n"
     ]
    }
   ],
   "source": [
    "data = data.astype({'approx_cost(for two people)' : int})\n",
    "print(data['approx_cost(for two people)'].dtype)"
   ]
  },
  {
   "cell_type": "code",
   "execution_count": 48,
   "id": "3adc4330",
   "metadata": {},
   "outputs": [
    {
     "data": {
      "text/html": [
       "<style type=\"text/css\">\n",
       "#T_7289f_row0_col0 {\n",
       "  background-color: #ffc0cb;\n",
       "  color: #000000;\n",
       "}\n",
       "#T_7289f_row1_col0, #T_7289f_row2_col0 {\n",
       "  background-color: #f5e6e8;\n",
       "  color: #000000;\n",
       "}\n",
       "#T_7289f_row3_col0 {\n",
       "  background-color: #f5e7e9;\n",
       "  color: #000000;\n",
       "}\n",
       "#T_7289f_row4_col0 {\n",
       "  background-color: #f3f0f0;\n",
       "  color: #000000;\n",
       "}\n",
       "</style>\n",
       "<table id=\"T_7289f_\">\n",
       "  <thead>\n",
       "    <tr>\n",
       "      <th class=\"blank level0\" >&nbsp;</th>\n",
       "      <th class=\"col_heading level0 col0\" >rate</th>\n",
       "    </tr>\n",
       "  </thead>\n",
       "  <tbody>\n",
       "    <tr>\n",
       "      <th id=\"T_7289f_level0_row0\" class=\"row_heading level0 row0\" >rate</th>\n",
       "      <td id=\"T_7289f_row0_col0\" class=\"data row0 col0\" >1.000000</td>\n",
       "    </tr>\n",
       "    <tr>\n",
       "      <th id=\"T_7289f_level0_row1\" class=\"row_heading level0 row1\" >votes</th>\n",
       "      <td id=\"T_7289f_row1_col0\" class=\"data row1 col0\" >0.406135</td>\n",
       "    </tr>\n",
       "    <tr>\n",
       "      <th id=\"T_7289f_level0_row2\" class=\"row_heading level0 row2\" >approx_cost(for two people)</th>\n",
       "      <td id=\"T_7289f_row2_col0\" class=\"data row2 col0\" >0.404836</td>\n",
       "    </tr>\n",
       "    <tr>\n",
       "      <th id=\"T_7289f_level0_row3\" class=\"row_heading level0 row3\" >book_table</th>\n",
       "      <td id=\"T_7289f_row3_col0\" class=\"data row3 col0\" >0.391537</td>\n",
       "    </tr>\n",
       "    <tr>\n",
       "      <th id=\"T_7289f_level0_row4\" class=\"row_heading level0 row4\" >online_order</th>\n",
       "      <td id=\"T_7289f_row4_col0\" class=\"data row4 col0\" >0.242004</td>\n",
       "    </tr>\n",
       "  </tbody>\n",
       "</table>\n"
      ],
      "text/plain": [
       "<pandas.io.formats.style.Styler at 0x1a80018c940>"
      ]
     },
     "execution_count": 48,
     "metadata": {},
     "output_type": "execute_result"
    }
   ],
   "source": [
    "correlation = data.corr()['rate'].sort_values(ascending = False).to_frame().head(10)\n",
    "\n",
    "cmap = sns.light_palette(\"pink\", as_cmap = True)\n",
    "\n",
    "s = correlation.style.background_gradient(cmap = cmap)\n",
    "\n",
    "s"
   ]
  },
  {
   "cell_type": "code",
   "execution_count": 49,
   "id": "1695d4a9",
   "metadata": {},
   "outputs": [
    {
     "name": "stderr",
     "output_type": "stream",
     "text": [
      "C:\\Users\\Prapti\\AppData\\Local\\Temp/ipykernel_16064/3450188505.py:1: FutureWarning: Indexing with multiple keys (implicitly converted to a tuple of keys) will be deprecated, use a list instead.\n",
      "  data.groupby('name')['rate','approx_cost(for two people)'].mean().sort_values(by = 'rate', ascending = False).head(15)\n"
     ]
    },
    {
     "data": {
      "text/html": [
       "<div>\n",
       "<style scoped>\n",
       "    .dataframe tbody tr th:only-of-type {\n",
       "        vertical-align: middle;\n",
       "    }\n",
       "\n",
       "    .dataframe tbody tr th {\n",
       "        vertical-align: top;\n",
       "    }\n",
       "\n",
       "    .dataframe thead th {\n",
       "        text-align: right;\n",
       "    }\n",
       "</style>\n",
       "<table border=\"1\" class=\"dataframe\">\n",
       "  <thead>\n",
       "    <tr style=\"text-align: right;\">\n",
       "      <th></th>\n",
       "      <th>rate</th>\n",
       "      <th>approx_cost(for two people)</th>\n",
       "    </tr>\n",
       "    <tr>\n",
       "      <th>name</th>\n",
       "      <th></th>\n",
       "      <th></th>\n",
       "    </tr>\n",
       "  </thead>\n",
       "  <tbody>\n",
       "    <tr>\n",
       "      <th>Byg Brewski Brewing Company</th>\n",
       "      <td>4.900000</td>\n",
       "      <td>1600.000000</td>\n",
       "    </tr>\n",
       "    <tr>\n",
       "      <th>Asia Kitchen By Mainland China</th>\n",
       "      <td>4.900000</td>\n",
       "      <td>1500.000000</td>\n",
       "    </tr>\n",
       "    <tr>\n",
       "      <th>SantÃÂÃÂÃÂÃÂÃÂÃÂÃÂÃÂÃÂÃÂÃÂÃÂÃÂÃÂÃÂÃÂ© Spa Cuisine</th>\n",
       "      <td>4.900000</td>\n",
       "      <td>1000.000000</td>\n",
       "    </tr>\n",
       "    <tr>\n",
       "      <th>Punjab Grill</th>\n",
       "      <td>4.871429</td>\n",
       "      <td>2000.000000</td>\n",
       "    </tr>\n",
       "    <tr>\n",
       "      <th>Belgian Waffle Factory</th>\n",
       "      <td>4.844828</td>\n",
       "      <td>400.000000</td>\n",
       "    </tr>\n",
       "    <tr>\n",
       "      <th>O.G. Variar &amp; Sons</th>\n",
       "      <td>4.800000</td>\n",
       "      <td>200.000000</td>\n",
       "    </tr>\n",
       "    <tr>\n",
       "      <th>Flechazo</th>\n",
       "      <td>4.800000</td>\n",
       "      <td>1400.000000</td>\n",
       "    </tr>\n",
       "    <tr>\n",
       "      <th>The Pizza Bakery</th>\n",
       "      <td>4.800000</td>\n",
       "      <td>1200.000000</td>\n",
       "    </tr>\n",
       "    <tr>\n",
       "      <th>AB's - Absolute Barbecues</th>\n",
       "      <td>4.789474</td>\n",
       "      <td>1568.421053</td>\n",
       "    </tr>\n",
       "    <tr>\n",
       "      <th>CTR</th>\n",
       "      <td>4.750000</td>\n",
       "      <td>150.000000</td>\n",
       "    </tr>\n",
       "    <tr>\n",
       "      <th>Barbecue by Punjab Grill</th>\n",
       "      <td>4.750000</td>\n",
       "      <td>1300.000000</td>\n",
       "    </tr>\n",
       "    <tr>\n",
       "      <th>The Black Pearl</th>\n",
       "      <td>4.727778</td>\n",
       "      <td>1427.777778</td>\n",
       "    </tr>\n",
       "    <tr>\n",
       "      <th>House Of Commons</th>\n",
       "      <td>4.723810</td>\n",
       "      <td>1000.000000</td>\n",
       "    </tr>\n",
       "    <tr>\n",
       "      <th>Toit</th>\n",
       "      <td>4.700000</td>\n",
       "      <td>1500.000000</td>\n",
       "    </tr>\n",
       "    <tr>\n",
       "      <th>You Mee</th>\n",
       "      <td>4.700000</td>\n",
       "      <td>2000.000000</td>\n",
       "    </tr>\n",
       "  </tbody>\n",
       "</table>\n",
       "</div>"
      ],
      "text/plain": [
       "                                                        rate  \\\n",
       "name                                                           \n",
       "Byg Brewski Brewing Company                         4.900000   \n",
       "Asia Kitchen By Mainland China                      4.900000   \n",
       "SantÃÂÃÂÃÂÃÂÃÂÃÂÃÂÃÂÃÂÃÂÃÂ...  4.900000   \n",
       "Punjab Grill                                        4.871429   \n",
       "Belgian Waffle Factory                              4.844828   \n",
       "O.G. Variar & Sons                                  4.800000   \n",
       "Flechazo                                            4.800000   \n",
       "The Pizza Bakery                                    4.800000   \n",
       "AB's - Absolute Barbecues                           4.789474   \n",
       "CTR                                                 4.750000   \n",
       "Barbecue by Punjab Grill                            4.750000   \n",
       "The Black Pearl                                     4.727778   \n",
       "House Of Commons                                    4.723810   \n",
       "Toit                                                4.700000   \n",
       "You Mee                                             4.700000   \n",
       "\n",
       "                                                    approx_cost(for two people)  \n",
       "name                                                                             \n",
       "Byg Brewski Brewing Company                                         1600.000000  \n",
       "Asia Kitchen By Mainland China                                      1500.000000  \n",
       "SantÃÂÃÂÃÂÃÂÃÂÃÂÃÂÃÂÃÂÃÂÃÂ...                  1000.000000  \n",
       "Punjab Grill                                                        2000.000000  \n",
       "Belgian Waffle Factory                                               400.000000  \n",
       "O.G. Variar & Sons                                                   200.000000  \n",
       "Flechazo                                                            1400.000000  \n",
       "The Pizza Bakery                                                    1200.000000  \n",
       "AB's - Absolute Barbecues                                           1568.421053  \n",
       "CTR                                                                  150.000000  \n",
       "Barbecue by Punjab Grill                                            1300.000000  \n",
       "The Black Pearl                                                     1427.777778  \n",
       "House Of Commons                                                    1000.000000  \n",
       "Toit                                                                1500.000000  \n",
       "You Mee                                                             2000.000000  "
      ]
     },
     "execution_count": 49,
     "metadata": {},
     "output_type": "execute_result"
    }
   ],
   "source": [
    "data.groupby('name')['rate','approx_cost(for two people)'].mean().sort_values(by = 'rate', ascending = False).head(15)"
   ]
  },
  {
   "cell_type": "markdown",
   "id": "f381a5e5",
   "metadata": {},
   "source": [
    "We can observe some of the top-rated restaurants are quite expensive. Punjab Grill costs 1000 per person, whereas Taaza Thindi costs 50 per person.\n",
    "\n",
    "Let's see the distribution of this feature."
   ]
  },
  {
   "cell_type": "code",
   "execution_count": 50,
   "id": "b8834948",
   "metadata": {},
   "outputs": [
    {
     "name": "stderr",
     "output_type": "stream",
     "text": [
      "C:\\Users\\Prapti\\anaconda3\\lib\\site-packages\\seaborn\\distributions.py:2619: FutureWarning: `distplot` is a deprecated function and will be removed in a future version. Please adapt your code to use either `displot` (a figure-level function with similar flexibility) or `histplot` (an axes-level function for histograms).\n",
      "  warnings.warn(msg, FutureWarning)\n"
     ]
    },
    {
     "data": {
      "text/plain": [
       "<AxesSubplot:xlabel='approx_cost(for two people)', ylabel='Density'>"
      ]
     },
     "execution_count": 50,
     "metadata": {},
     "output_type": "execute_result"
    },
    {
     "data": {
      "image/png": "[encoded data removed]",
      "text/plain": [
       "<Figure size 576x576 with 1 Axes>"
      ]
     },
     "metadata": {
      "needs_background": "light"
     },
     "output_type": "display_data"
    }
   ],
   "source": [
    "plt.figure(figsize = (8, 8))\n",
    "sns.distplot(data['approx_cost(for two people)'])"
   ]
  },
  {
   "cell_type": "markdown",
   "id": "4b3acbef",
   "metadata": {},
   "source": [
    "Let's see which is the most expensive restaurant."
   ]
  },
  {
   "cell_type": "code",
   "execution_count": 51,
   "id": "7e3cba42",
   "metadata": {},
   "outputs": [
    {
     "data": {
      "text/plain": [
       "45618    6000\n",
       "19139    6000\n",
       "40266    5000\n",
       "41591    4500\n",
       "42141    4500\n",
       "         ... \n",
       "17773      40\n",
       "29785      40\n",
       "14819      40\n",
       "5270       40\n",
       "18891      40\n",
       "Name: approx_cost(for two people), Length: 51083, dtype: int32"
      ]
     },
     "execution_count": 51,
     "metadata": {},
     "output_type": "execute_result"
    }
   ],
   "source": [
    "data['approx_cost(for two people)'].sort_values(ascending = False)"
   ]
  },
  {
   "cell_type": "code",
   "execution_count": 52,
   "id": "258c9c40",
   "metadata": {},
   "outputs": [
    {
     "name": "stdout",
     "output_type": "stream",
     "text": [
      "The name of the most expensive restaurant is Le Cirque Signature - The Leela Palace and it is located at Old Airport Road\n"
     ]
    }
   ],
   "source": [
    "print(\"The name of the most expensive restaurant is {} and it is located at {}\".format(\n",
    "data.loc[data['approx_cost(for two people)'] == data['approx_cost(for two people)'].max()]['name'].unique()[0],\n",
    "data.loc[data['approx_cost(for two people)'] == data['approx_cost(for two people)'].max()]['location'].unique()[0]\n",
    "))"
   ]
  },
  {
   "cell_type": "code",
   "execution_count": 53,
   "id": "ec09c9d7",
   "metadata": {},
   "outputs": [
    {
     "data": {
      "text/plain": [
       "array([6000, 5000, 4500, 4100, 4000])"
      ]
     },
     "execution_count": 53,
     "metadata": {},
     "output_type": "execute_result"
    }
   ],
   "source": [
    "data['approx_cost(for two people)'].sort_values(ascending = False).head(15).unique()"
   ]
  },
  {
   "cell_type": "markdown",
   "id": "7b1b53a6",
   "metadata": {},
   "source": [
    "Top 15 restaurants cost ran range from 4000 to 6000 Rupees for two people"
   ]
  },
  {
   "cell_type": "markdown",
   "id": "776e1fb6",
   "metadata": {},
   "source": [
    "# Location"
   ]
  },
  {
   "cell_type": "markdown",
   "id": "8a235563",
   "metadata": {},
   "source": [
    "Let's plot the unique places where thse restaurants are located. First we will use Geopy to get the latitudes and longitudes of a particular location. Geopy provides a class for popular mapping services. Once we get the lat and long, we will use Folium to plot them on the map"
   ]
  },
  {
   "cell_type": "code",
   "execution_count": 54,
   "id": "882c376b",
   "metadata": {},
   "outputs": [
    {
     "name": "stdout",
     "output_type": "stream",
     "text": [
      "Requirement already satisfied: geopy in c:\\users\\prapti\\anaconda3\\lib\\site-packages (2.2.0)"
     ]
    },
    {
     "name": "stderr",
     "output_type": "stream",
     "text": [
      "\n",
      "[notice] A new release of pip available: 22.2.1 -> 22.2.2\n",
      "[notice] To update, run: python.exe -m pip install --upgrade pip\n"
     ]
    },
    {
     "name": "stdout",
     "output_type": "stream",
     "text": [
      "\n",
      "Requirement already satisfied: geographiclib<2,>=1.49 in c:\\users\\prapti\\anaconda3\\lib\\site-packages (from geopy) (1.52)\n"
     ]
    }
   ],
   "source": [
    "! pip install geopy"
   ]
  },
  {
   "cell_type": "code",
   "execution_count": 55,
   "id": "e0a9921c",
   "metadata": {},
   "outputs": [],
   "source": [
    "from geopy.geocoders import Nominatim\n",
    "from geopy.exc import GeocoderTimedOut\n",
    "geolocator = Nominatim(user_agent=\"example app\")"
   ]
  },
  {
   "cell_type": "code",
   "execution_count": 56,
   "id": "d8a11438",
   "metadata": {},
   "outputs": [
    {
     "data": {
      "text/plain": [
       "Point(12.973936, 77.6509982, 0.0)"
      ]
     },
     "execution_count": 56,
     "metadata": {},
     "output_type": "execute_result"
    }
   ],
   "source": [
    "# Sample use\n",
    "geolocator.geocode(\"Thippasandra, Bengaluru\").point"
   ]
  },
  {
   "cell_type": "code",
   "execution_count": 57,
   "id": "0d916c2d",
   "metadata": {},
   "outputs": [],
   "source": [
    "data['location'] = data['location'].apply(lambda x : x + ',Bengaluru')"
   ]
  },
  {
   "cell_type": "code",
   "execution_count": 58,
   "id": "30d93953",
   "metadata": {},
   "outputs": [],
   "source": [
    "locations = []\n",
    "points = []\n",
    "for i in data['location'].unique():\n",
    "    # print(i)\n",
    "    if geolocator.geocode(i):\n",
    "        locations.append(i)\n",
    "        points.append(geolocator.geocode(i).point)\n",
    "    else:\n",
    "        continue"
   ]
  },
  {
   "cell_type": "code",
   "execution_count": 59,
   "id": "e2416346",
   "metadata": {},
   "outputs": [],
   "source": [
    "location_point = {}\n",
    "location_point['Locations'] = locations\n",
    "location_point['Points'] = points\n",
    "\n",
    "location_point = pd.DataFrame(location_point)"
   ]
  },
  {
   "cell_type": "code",
   "execution_count": 60,
   "id": "a6b59d60",
   "metadata": {},
   "outputs": [
    {
     "data": {
      "text/html": [
       "<div>\n",
       "<style scoped>\n",
       "    .dataframe tbody tr th:only-of-type {\n",
       "        vertical-align: middle;\n",
       "    }\n",
       "\n",
       "    .dataframe tbody tr th {\n",
       "        vertical-align: top;\n",
       "    }\n",
       "\n",
       "    .dataframe thead th {\n",
       "        text-align: right;\n",
       "    }\n",
       "</style>\n",
       "<table border=\"1\" class=\"dataframe\">\n",
       "  <thead>\n",
       "    <tr style=\"text-align: right;\">\n",
       "      <th></th>\n",
       "      <th>Locations</th>\n",
       "      <th>Points</th>\n",
       "    </tr>\n",
       "  </thead>\n",
       "  <tbody>\n",
       "    <tr>\n",
       "      <th>0</th>\n",
       "      <td>Banashankari,Bengaluru</td>\n",
       "      <td>12 57m 55.0197s N, 77 35m 40.027s E</td>\n",
       "    </tr>\n",
       "    <tr>\n",
       "      <th>1</th>\n",
       "      <td>Basavanagudi,Bengaluru</td>\n",
       "      <td>12 56m 30.214s N, 77 34m 31.8076s E</td>\n",
       "    </tr>\n",
       "    <tr>\n",
       "      <th>2</th>\n",
       "      <td>Mysore Road,Bengaluru</td>\n",
       "      <td>12 56m 47.9828s N, 77 31m 48.3226s E</td>\n",
       "    </tr>\n",
       "    <tr>\n",
       "      <th>3</th>\n",
       "      <td>Jayanagar,Bengaluru</td>\n",
       "      <td>12 55m 45.3832s N, 77 34m 56.7224s E</td>\n",
       "    </tr>\n",
       "    <tr>\n",
       "      <th>4</th>\n",
       "      <td>Kumaraswamy Layout,Bengaluru</td>\n",
       "      <td>12 54m 29.3353s N, 77 33m 19.1444s E</td>\n",
       "    </tr>\n",
       "    <tr>\n",
       "      <th>...</th>\n",
       "      <td>...</td>\n",
       "      <td>...</td>\n",
       "    </tr>\n",
       "    <tr>\n",
       "      <th>85</th>\n",
       "      <td>West Bangalore,Bengaluru</td>\n",
       "      <td>12 56m 58.0403s N, 77 31m 1.56201s E</td>\n",
       "    </tr>\n",
       "    <tr>\n",
       "      <th>86</th>\n",
       "      <td>Magadi Road,Bengaluru</td>\n",
       "      <td>12 58m 32.1888s N, 77 33m 19.283s E</td>\n",
       "    </tr>\n",
       "    <tr>\n",
       "      <th>87</th>\n",
       "      <td>Yelahanka,Bengaluru</td>\n",
       "      <td>13 6m 2.51352s N, 77 35m 46.8434s E</td>\n",
       "    </tr>\n",
       "    <tr>\n",
       "      <th>88</th>\n",
       "      <td>Sahakara Nagar,Bengaluru</td>\n",
       "      <td>13 3m 43.7306s N, 77 34m 48.2209s E</td>\n",
       "    </tr>\n",
       "    <tr>\n",
       "      <th>89</th>\n",
       "      <td>Peenya,Bengaluru</td>\n",
       "      <td>13 1m 58.5908s N, 77 31m 38.3711s E</td>\n",
       "    </tr>\n",
       "  </tbody>\n",
       "</table>\n",
       "<p>90 rows × 2 columns</p>\n",
       "</div>"
      ],
      "text/plain": [
       "                       Locations                                Points\n",
       "0         Banashankari,Bengaluru   12 57m 55.0197s N, 77 35m 40.027s E\n",
       "1         Basavanagudi,Bengaluru   12 56m 30.214s N, 77 34m 31.8076s E\n",
       "2          Mysore Road,Bengaluru  12 56m 47.9828s N, 77 31m 48.3226s E\n",
       "3            Jayanagar,Bengaluru  12 55m 45.3832s N, 77 34m 56.7224s E\n",
       "4   Kumaraswamy Layout,Bengaluru  12 54m 29.3353s N, 77 33m 19.1444s E\n",
       "..                           ...                                   ...\n",
       "85      West Bangalore,Bengaluru  12 56m 58.0403s N, 77 31m 1.56201s E\n",
       "86         Magadi Road,Bengaluru   12 58m 32.1888s N, 77 33m 19.283s E\n",
       "87           Yelahanka,Bengaluru   13 6m 2.51352s N, 77 35m 46.8434s E\n",
       "88      Sahakara Nagar,Bengaluru   13 3m 43.7306s N, 77 34m 48.2209s E\n",
       "89              Peenya,Bengaluru   13 1m 58.5908s N, 77 31m 38.3711s E\n",
       "\n",
       "[90 rows x 2 columns]"
      ]
     },
     "execution_count": 60,
     "metadata": {},
     "output_type": "execute_result"
    }
   ],
   "source": [
    "location_point"
   ]
  },
  {
   "cell_type": "code",
   "execution_count": 61,
   "id": "1573f422",
   "metadata": {},
   "outputs": [],
   "source": [
    "location_point[['lat', 'lon', 'altitude']] = pd.DataFrame(location_point['Points'].to_list())"
   ]
  },
  {
   "cell_type": "code",
   "execution_count": 62,
   "id": "398698fb",
   "metadata": {},
   "outputs": [
    {
     "data": {
      "text/html": [
       "<div>\n",
       "<style scoped>\n",
       "    .dataframe tbody tr th:only-of-type {\n",
       "        vertical-align: middle;\n",
       "    }\n",
       "\n",
       "    .dataframe tbody tr th {\n",
       "        vertical-align: top;\n",
       "    }\n",
       "\n",
       "    .dataframe thead th {\n",
       "        text-align: right;\n",
       "    }\n",
       "</style>\n",
       "<table border=\"1\" class=\"dataframe\">\n",
       "  <thead>\n",
       "    <tr style=\"text-align: right;\">\n",
       "      <th></th>\n",
       "      <th>Locations</th>\n",
       "      <th>Points</th>\n",
       "      <th>lat</th>\n",
       "      <th>lon</th>\n",
       "      <th>altitude</th>\n",
       "    </tr>\n",
       "  </thead>\n",
       "  <tbody>\n",
       "    <tr>\n",
       "      <th>0</th>\n",
       "      <td>Banashankari,Bengaluru</td>\n",
       "      <td>12 57m 55.0197s N, 77 35m 40.027s E</td>\n",
       "      <td>12.965283</td>\n",
       "      <td>77.594452</td>\n",
       "      <td>0.0</td>\n",
       "    </tr>\n",
       "    <tr>\n",
       "      <th>1</th>\n",
       "      <td>Basavanagudi,Bengaluru</td>\n",
       "      <td>12 56m 30.214s N, 77 34m 31.8076s E</td>\n",
       "      <td>12.941726</td>\n",
       "      <td>77.575502</td>\n",
       "      <td>0.0</td>\n",
       "    </tr>\n",
       "    <tr>\n",
       "      <th>2</th>\n",
       "      <td>Mysore Road,Bengaluru</td>\n",
       "      <td>12 56m 47.9828s N, 77 31m 48.3226s E</td>\n",
       "      <td>12.946662</td>\n",
       "      <td>77.530090</td>\n",
       "      <td>0.0</td>\n",
       "    </tr>\n",
       "    <tr>\n",
       "      <th>3</th>\n",
       "      <td>Jayanagar,Bengaluru</td>\n",
       "      <td>12 55m 45.3832s N, 77 34m 56.7224s E</td>\n",
       "      <td>12.929273</td>\n",
       "      <td>77.582423</td>\n",
       "      <td>0.0</td>\n",
       "    </tr>\n",
       "    <tr>\n",
       "      <th>4</th>\n",
       "      <td>Kumaraswamy Layout,Bengaluru</td>\n",
       "      <td>12 54m 29.3353s N, 77 33m 19.1444s E</td>\n",
       "      <td>12.908149</td>\n",
       "      <td>77.555318</td>\n",
       "      <td>0.0</td>\n",
       "    </tr>\n",
       "    <tr>\n",
       "      <th>...</th>\n",
       "      <td>...</td>\n",
       "      <td>...</td>\n",
       "      <td>...</td>\n",
       "      <td>...</td>\n",
       "      <td>...</td>\n",
       "    </tr>\n",
       "    <tr>\n",
       "      <th>85</th>\n",
       "      <td>West Bangalore,Bengaluru</td>\n",
       "      <td>12 56m 58.0403s N, 77 31m 1.56201s E</td>\n",
       "      <td>12.949456</td>\n",
       "      <td>77.517101</td>\n",
       "      <td>0.0</td>\n",
       "    </tr>\n",
       "    <tr>\n",
       "      <th>86</th>\n",
       "      <td>Magadi Road,Bengaluru</td>\n",
       "      <td>12 58m 32.1888s N, 77 33m 19.283s E</td>\n",
       "      <td>12.975608</td>\n",
       "      <td>77.555356</td>\n",
       "      <td>0.0</td>\n",
       "    </tr>\n",
       "    <tr>\n",
       "      <th>87</th>\n",
       "      <td>Yelahanka,Bengaluru</td>\n",
       "      <td>13 6m 2.51352s N, 77 35m 46.8434s E</td>\n",
       "      <td>13.100698</td>\n",
       "      <td>77.596345</td>\n",
       "      <td>0.0</td>\n",
       "    </tr>\n",
       "    <tr>\n",
       "      <th>88</th>\n",
       "      <td>Sahakara Nagar,Bengaluru</td>\n",
       "      <td>13 3m 43.7306s N, 77 34m 48.2209s E</td>\n",
       "      <td>13.062147</td>\n",
       "      <td>77.580061</td>\n",
       "      <td>0.0</td>\n",
       "    </tr>\n",
       "    <tr>\n",
       "      <th>89</th>\n",
       "      <td>Peenya,Bengaluru</td>\n",
       "      <td>13 1m 58.5908s N, 77 31m 38.3711s E</td>\n",
       "      <td>13.032942</td>\n",
       "      <td>77.527325</td>\n",
       "      <td>0.0</td>\n",
       "    </tr>\n",
       "  </tbody>\n",
       "</table>\n",
       "<p>90 rows × 5 columns</p>\n",
       "</div>"
      ],
      "text/plain": [
       "                       Locations                                Points  \\\n",
       "0         Banashankari,Bengaluru   12 57m 55.0197s N, 77 35m 40.027s E   \n",
       "1         Basavanagudi,Bengaluru   12 56m 30.214s N, 77 34m 31.8076s E   \n",
       "2          Mysore Road,Bengaluru  12 56m 47.9828s N, 77 31m 48.3226s E   \n",
       "3            Jayanagar,Bengaluru  12 55m 45.3832s N, 77 34m 56.7224s E   \n",
       "4   Kumaraswamy Layout,Bengaluru  12 54m 29.3353s N, 77 33m 19.1444s E   \n",
       "..                           ...                                   ...   \n",
       "85      West Bangalore,Bengaluru  12 56m 58.0403s N, 77 31m 1.56201s E   \n",
       "86         Magadi Road,Bengaluru   12 58m 32.1888s N, 77 33m 19.283s E   \n",
       "87           Yelahanka,Bengaluru   13 6m 2.51352s N, 77 35m 46.8434s E   \n",
       "88      Sahakara Nagar,Bengaluru   13 3m 43.7306s N, 77 34m 48.2209s E   \n",
       "89              Peenya,Bengaluru   13 1m 58.5908s N, 77 31m 38.3711s E   \n",
       "\n",
       "          lat        lon  altitude  \n",
       "0   12.965283  77.594452       0.0  \n",
       "1   12.941726  77.575502       0.0  \n",
       "2   12.946662  77.530090       0.0  \n",
       "3   12.929273  77.582423       0.0  \n",
       "4   12.908149  77.555318       0.0  \n",
       "..        ...        ...       ...  \n",
       "85  12.949456  77.517101       0.0  \n",
       "86  12.975608  77.555356       0.0  \n",
       "87  13.100698  77.596345       0.0  \n",
       "88  13.062147  77.580061       0.0  \n",
       "89  13.032942  77.527325       0.0  \n",
       "\n",
       "[90 rows x 5 columns]"
      ]
     },
     "execution_count": 62,
     "metadata": {},
     "output_type": "execute_result"
    }
   ],
   "source": [
    "location_point"
   ]
  },
  {
   "cell_type": "code",
   "execution_count": 63,
   "id": "023ac4d8",
   "metadata": {},
   "outputs": [
    {
     "name": "stdout",
     "output_type": "stream",
     "text": [
      "Requirement already satisfied: folium in c:\\users\\prapti\\anaconda3\\lib\\site-packages (0.12.1.post1)\n",
      "Requirement already satisfied: branca>=0.3.0 in c:\\users\\prapti\\anaconda3\\lib\\site-packages (from folium) (0.5.0)\n",
      "Requirement already satisfied: jinja2>=2.9 in c:\\users\\prapti\\anaconda3\\lib\\site-packages (from folium) (2.11.3)\n",
      "Requirement already satisfied: requests in c:\\users\\prapti\\anaconda3\\lib\\site-packages (from folium) (2.26.0)\n",
      "Requirement already satisfied: numpy in c:\\users\\prapti\\anaconda3\\lib\\site-packages (from folium) (1.20.3)\n",
      "Requirement already satisfied: MarkupSafe>=0.23 in c:\\users\\prapti\\anaconda3\\lib\\site-packages (from jinja2>=2.9->folium) (1.1.1)\n",
      "Requirement already satisfied: idna<4,>=2.5 in c:\\users\\prapti\\anaconda3\\lib\\site-packages (from requests->folium) (3.2)\n",
      "Requirement already satisfied: charset-normalizer~=2.0.0 in c:\\users\\prapti\\anaconda3\\lib\\site-packages (from requests->folium) (2.0.4)\n",
      "Requirement already satisfied: certifi>=2017.4.17 in c:\\users\\prapti\\anaconda3\\lib\\site-packages (from requests->folium) (2021.10.8)\n",
      "Requirement already satisfied: urllib3<1.27,>=1.21.1 in c:\\users\\prapti\\anaconda3\\lib\\site-packages (from requests->folium) (1.26.7)\n"
     ]
    },
    {
     "name": "stderr",
     "output_type": "stream",
     "text": [
      "\n",
      "[notice] A new release of pip available: 22.2.1 -> 22.2.2\n",
      "[notice] To update, run: python.exe -m pip install --upgrade pip\n"
     ]
    }
   ],
   "source": [
    "!pip install folium"
   ]
  },
  {
   "cell_type": "code",
   "execution_count": 64,
   "id": "a8359f74",
   "metadata": {},
   "outputs": [
    {
     "data": {
      "text/html": [
       "<div style=\"width:100%;\"><div style=\"position:relative;width:100%;height:0;padding-bottom:60%;\"><span style=\"color:#565656\">Make this Notebook Trusted to load map: File -> Trust Notebook</span><iframe srcdoc=\"&lt;!DOCTYPE html&gt;\n",
       "&lt;head&gt;    \n",
       "    &lt;meta http-equiv=&quot;content-type&quot; content=&quot;text/html; charset=UTF-8&quot; /&gt;\n",
       "    \n",
       "        &lt;script&gt;\n",
       "            L_NO_TOUCH = false;\n",
       "            L_DISABLE_3D = false;\n",
       "        &lt;/script&gt;\n",
       "    \n",
       "    &lt;style&gt;html, body {width: 100%;height: 100%;margin: 0;padding: 0;}&lt;/style&gt;\n",
       "    &lt;style&gt;#map {position:absolute;top:0;bottom:0;right:0;left:0;}&lt;/style&gt;\n",
       "    &lt;script src=&quot;https://cdn.jsdelivr.net/npm/leaflet@1.6.0/dist/leaflet.js&quot;&gt;&lt;/script&gt;\n",
       "    &lt;script src=&quot;https://code.jquery.com/jquery-1.12.4.min.js&quot;&gt;&lt;/script&gt;\n",
       "    &lt;script src=&quot;https://maxcdn.bootstrapcdn.com/bootstrap/3.2.0/js/bootstrap.min.js&quot;&gt;&lt;/script&gt;\n",
       "    &lt;script src=&quot;https://cdnjs.cloudflare.com/ajax/libs/Leaflet.awesome-markers/2.0.2/leaflet.awesome-markers.js&quot;&gt;&lt;/script&gt;\n",
       "    &lt;link rel=&quot;stylesheet&quot; href=&quot;https://cdn.jsdelivr.net/npm/leaflet@1.6.0/dist/leaflet.css&quot;/&gt;\n",
       "    &lt;link rel=&quot;stylesheet&quot; href=&quot;https://maxcdn.bootstrapcdn.com/bootstrap/3.2.0/css/bootstrap.min.css&quot;/&gt;\n",
       "    &lt;link rel=&quot;stylesheet&quot; href=&quot;https://maxcdn.bootstrapcdn.com/bootstrap/3.2.0/css/bootstrap-theme.min.css&quot;/&gt;\n",
       "    &lt;link rel=&quot;stylesheet&quot; href=&quot;https://maxcdn.bootstrapcdn.com/font-awesome/4.6.3/css/font-awesome.min.css&quot;/&gt;\n",
       "    &lt;link rel=&quot;stylesheet&quot; href=&quot;https://cdnjs.cloudflare.com/ajax/libs/Leaflet.awesome-markers/2.0.2/leaflet.awesome-markers.css&quot;/&gt;\n",
       "    &lt;link rel=&quot;stylesheet&quot; href=&quot;https://cdn.jsdelivr.net/gh/python-visualization/folium/folium/templates/leaflet.awesome.rotate.min.css&quot;/&gt;\n",
       "    \n",
       "            &lt;meta name=&quot;viewport&quot; content=&quot;width=device-width,\n",
       "                initial-scale=1.0, maximum-scale=1.0, user-scalable=no&quot; /&gt;\n",
       "            &lt;style&gt;\n",
       "                #map_62248cf5722811e03869a3a7fdaeb3ec {\n",
       "                    position: relative;\n",
       "                    width: 100.0%;\n",
       "                    height: 100.0%;\n",
       "                    left: 0.0%;\n",
       "                    top: 0.0%;\n",
       "                }\n",
       "            &lt;/style&gt;\n",
       "        \n",
       "&lt;/head&gt;\n",
       "&lt;body&gt;    \n",
       "    \n",
       "            &lt;div class=&quot;folium-map&quot; id=&quot;map_62248cf5722811e03869a3a7fdaeb3ec&quot; &gt;&lt;/div&gt;\n",
       "        \n",
       "&lt;/body&gt;\n",
       "&lt;script&gt;    \n",
       "    \n",
       "            var map_62248cf5722811e03869a3a7fdaeb3ec = L.map(\n",
       "                &quot;map_62248cf5722811e03869a3a7fdaeb3ec&quot;,\n",
       "                {\n",
       "                    center: [12.970601274999998, 77.60981727127438],\n",
       "                    crs: L.CRS.EPSG3857,\n",
       "                    zoom: 2,\n",
       "                    zoomControl: true,\n",
       "                    preferCanvas: false,\n",
       "                }\n",
       "            );\n",
       "\n",
       "            \n",
       "\n",
       "        \n",
       "    \n",
       "            var tile_layer_ce542cecd5459523d2abde4dc7731c16 = L.tileLayer(\n",
       "                &quot;https://{s}.tile.openstreetmap.org/{z}/{x}/{y}.png&quot;,\n",
       "                {&quot;attribution&quot;: &quot;Data by \\u0026copy; \\u003ca href=\\&quot;http://openstreetmap.org\\&quot;\\u003eOpenStreetMap\\u003c/a\\u003e, under \\u003ca href=\\&quot;http://www.openstreetmap.org/copyright\\&quot;\\u003eODbL\\u003c/a\\u003e.&quot;, &quot;detectRetina&quot;: false, &quot;maxNativeZoom&quot;: 18, &quot;maxZoom&quot;: 18, &quot;minZoom&quot;: 0, &quot;noWrap&quot;: false, &quot;opacity&quot;: 1, &quot;subdomains&quot;: &quot;abc&quot;, &quot;tms&quot;: false}\n",
       "            ).addTo(map_62248cf5722811e03869a3a7fdaeb3ec);\n",
       "        \n",
       "    \n",
       "            var marker_8acfc105d7964d57bcc925f8cd58277b = L.marker(\n",
       "                [12.965283249999999, 77.59445195],\n",
       "                {}\n",
       "            ).addTo(map_62248cf5722811e03869a3a7fdaeb3ec);\n",
       "        \n",
       "    \n",
       "            var marker_a2d43a7d70e6474e9cefa0ab0be73c62 = L.marker(\n",
       "                [12.9417261, 77.5755021],\n",
       "                {}\n",
       "            ).addTo(map_62248cf5722811e03869a3a7fdaeb3ec);\n",
       "        \n",
       "    \n",
       "            var marker_5504e22b0c451829f9b9444f7b80ba1c = L.marker(\n",
       "                [12.9466619, 77.5300896],\n",
       "                {}\n",
       "            ).addTo(map_62248cf5722811e03869a3a7fdaeb3ec);\n",
       "        \n",
       "    \n",
       "            var marker_3c140e57c15ea6d6e0a1add3d79f85f6 = L.marker(\n",
       "                [12.9292731, 77.5824229],\n",
       "                {}\n",
       "            ).addTo(map_62248cf5722811e03869a3a7fdaeb3ec);\n",
       "        \n",
       "    \n",
       "            var marker_737e47b6abce03d3faa3b7cbe691d01e = L.marker(\n",
       "                [12.9081487, 77.5553179],\n",
       "                {}\n",
       "            ).addTo(map_62248cf5722811e03869a3a7fdaeb3ec);\n",
       "        \n",
       "    \n",
       "            var marker_e72a08fc91fb510cd74c17d28263c294 = L.marker(\n",
       "                [12.9274413, 77.5155224],\n",
       "                {}\n",
       "            ).addTo(map_62248cf5722811e03869a3a7fdaeb3ec);\n",
       "        \n",
       "    \n",
       "            var marker_eb67f60acf49cacc14de16ca81f4a623 = L.marker(\n",
       "                [12.96599025, 77.61255661823476],\n",
       "                {}\n",
       "            ).addTo(map_62248cf5722811e03869a3a7fdaeb3ec);\n",
       "        \n",
       "    \n",
       "            var marker_74b8600ef81539cea81f8061293f7273 = L.marker(\n",
       "                [12.9055682, 77.5455438],\n",
       "                {}\n",
       "            ).addTo(map_62248cf5722811e03869a3a7fdaeb3ec);\n",
       "        \n",
       "    \n",
       "            var marker_8ed1be3510ffd7a5dd630574965307f2 = L.marker(\n",
       "                [12.9072515, 77.5782713],\n",
       "                {}\n",
       "            ).addTo(map_62248cf5722811e03869a3a7fdaeb3ec);\n",
       "        \n",
       "    \n",
       "            var marker_cc6a7e770265854a12816e15e40be82a = L.marker(\n",
       "                [12.8947975, 77.598757],\n",
       "                {}\n",
       "            ).addTo(map_62248cf5722811e03869a3a7fdaeb3ec);\n",
       "        \n",
       "    \n",
       "            var marker_30b10e53a67d4be9a4d3948522526992 = L.marker(\n",
       "                [12.965717999999999, 77.5762705372058],\n",
       "                {}\n",
       "            ).addTo(map_62248cf5722811e03869a3a7fdaeb3ec);\n",
       "        \n",
       "    \n",
       "            var marker_8990d2bb11e97849d0ce9d669c161c91 = L.marker(\n",
       "                [12.95961755, 77.51126721318181],\n",
       "                {}\n",
       "            ).addTo(map_62248cf5722811e03869a3a7fdaeb3ec);\n",
       "        \n",
       "    \n",
       "            var marker_5fdb3cbc9ee84a0cba26c0126ea88d5f = L.marker(\n",
       "                [12.8885856, 77.5973066],\n",
       "                {}\n",
       "            ).addTo(map_62248cf5722811e03869a3a7fdaeb3ec);\n",
       "        \n",
       "    \n",
       "            var marker_99a4411a93b6bba8277b1df4b928d2e1 = L.marker(\n",
       "                [12.911275849999999, 77.60456543431182],\n",
       "                {}\n",
       "            ).addTo(map_62248cf5722811e03869a3a7fdaeb3ec);\n",
       "        \n",
       "    \n",
       "            var marker_5232b32ab1269fd708d764f0becd7a24 = L.marker(\n",
       "                [12.9386765, 77.5752987],\n",
       "                {}\n",
       "            ).addTo(map_62248cf5722811e03869a3a7fdaeb3ec);\n",
       "        \n",
       "    \n",
       "            var marker_aab219d9714bc95e35830385e35fbd44 = L.marker(\n",
       "                [12.9089453, 77.6239038],\n",
       "                {}\n",
       "            ).addTo(map_62248cf5722811e03869a3a7fdaeb3ec);\n",
       "        \n",
       "    \n",
       "            var marker_3c20385db9b5adfe50f8ec475434999c = L.marker(\n",
       "                [12.9856596, 77.6638971],\n",
       "                {}\n",
       "            ).addTo(map_62248cf5722811e03869a3a7fdaeb3ec);\n",
       "        \n",
       "    \n",
       "            var marker_4b6d09334d3d96bfb35ebde13d324601 = L.marker(\n",
       "                [12.848759900000001, 77.64825295827616],\n",
       "                {}\n",
       "            ).addTo(map_62248cf5722811e03869a3a7fdaeb3ec);\n",
       "        \n",
       "    \n",
       "            var marker_fcf38ed19fdaf3fa7ade4e0c362a2506 = L.marker(\n",
       "                [12.9116225, 77.6388622],\n",
       "                {}\n",
       "            ).addTo(map_62248cf5722811e03869a3a7fdaeb3ec);\n",
       "        \n",
       "    \n",
       "            var marker_f71c91dbe538742b5f1b3748c4a1e003 = L.marker(\n",
       "                [12.9552572, 77.6984163],\n",
       "                {}\n",
       "            ).addTo(map_62248cf5722811e03869a3a7fdaeb3ec);\n",
       "        \n",
       "    \n",
       "            var marker_c11848f0d088370cb71ab0aeb295abfd = L.marker(\n",
       "                [12.9489339, 77.5968273],\n",
       "                {}\n",
       "            ).addTo(map_62248cf5722811e03869a3a7fdaeb3ec);\n",
       "        \n",
       "    \n",
       "            var marker_6c773ba93db8ce86ff26d0bd898e747f = L.marker(\n",
       "                [12.9575547, 77.5979099],\n",
       "                {}\n",
       "            ).addTo(map_62248cf5722811e03869a3a7fdaeb3ec);\n",
       "        \n",
       "    \n",
       "            var marker_d3377e80eac218805106c29ba6d01265 = L.marker(\n",
       "                [12.9348429, 77.6189768],\n",
       "                {}\n",
       "            ).addTo(map_62248cf5722811e03869a3a7fdaeb3ec);\n",
       "        \n",
       "    \n",
       "            var marker_a70f62794bfb16af7c9b8a4e826c859f = L.marker(\n",
       "                [12.9408685, 77.617338],\n",
       "                {}\n",
       "            ).addTo(map_62248cf5722811e03869a3a7fdaeb3ec);\n",
       "        \n",
       "    \n",
       "            var marker_a2adba8157c569a2a51d57cebbec2658 = L.marker(\n",
       "                [12.965195, 77.5996578],\n",
       "                {}\n",
       "            ).addTo(map_62248cf5722811e03869a3a7fdaeb3ec);\n",
       "        \n",
       "    \n",
       "            var marker_6c8c18b709e9e7b6d416073e0a63863d = L.marker(\n",
       "                [12.9364846, 77.6134783],\n",
       "                {}\n",
       "            ).addTo(map_62248cf5722811e03869a3a7fdaeb3ec);\n",
       "        \n",
       "    \n",
       "            var marker_998cbc3be0a0cd52e128ade38c684c59 = L.marker(\n",
       "                [13.0464531, 77.5483803],\n",
       "                {}\n",
       "            ).addTo(map_62248cf5722811e03869a3a7fdaeb3ec);\n",
       "        \n",
       "    \n",
       "            var marker_178aba5fff664f7c42becaf58e121f18 = L.marker(\n",
       "                [12.9327778, 77.6294052],\n",
       "                {}\n",
       "            ).addTo(map_62248cf5722811e03869a3a7fdaeb3ec);\n",
       "        \n",
       "    \n",
       "            var marker_26256529e068fa413b3105865066a9b8 = L.marker(\n",
       "                [12.93103185, 77.6782471],\n",
       "                {}\n",
       "            ).addTo(map_62248cf5722811e03869a3a7fdaeb3ec);\n",
       "        \n",
       "    \n",
       "            var marker_f2593120e2384ba47bbe998f3debd44f = L.marker(\n",
       "                [12.920441, 77.6653284],\n",
       "                {}\n",
       "            ).addTo(map_62248cf5722811e03869a3a7fdaeb3ec);\n",
       "        \n",
       "    \n",
       "            var marker_c886f877c3961c011eb35cecc4f160d7 = L.marker(\n",
       "                [12.9696365, 77.7497448],\n",
       "                {}\n",
       "            ).addTo(map_62248cf5722811e03869a3a7fdaeb3ec);\n",
       "        \n",
       "    \n",
       "            var marker_fa57cc8f705f5991dacb2c3265cf1be4 = L.marker(\n",
       "                [12.983073000000001, 77.59316471493847],\n",
       "                {}\n",
       "            ).addTo(map_62248cf5722811e03869a3a7fdaeb3ec);\n",
       "        \n",
       "    \n",
       "            var marker_05f997822c11637a828c3abc1dc7eb3a = L.marker(\n",
       "                [12.9594408, 77.6542883],\n",
       "                {}\n",
       "            ).addTo(map_62248cf5722811e03869a3a7fdaeb3ec);\n",
       "        \n",
       "    \n",
       "            var marker_95afdd374a6836cd49e38799a75fd7cd = L.marker(\n",
       "                [12.9732913, 77.6404672],\n",
       "                {}\n",
       "            ).addTo(map_62248cf5722811e03869a3a7fdaeb3ec);\n",
       "        \n",
       "    \n",
       "            var marker_a30bc025fb1347223aa0d2db9740b7dd = L.marker(\n",
       "                [12.9275886, 77.6308832],\n",
       "                {}\n",
       "            ).addTo(map_62248cf5722811e03869a3a7fdaeb3ec);\n",
       "        \n",
       "    \n",
       "            var marker_01249d409605a81843293ac1e0f05f6c = L.marker(\n",
       "                [12.996845, 77.6130165],\n",
       "                {}\n",
       "            ).addTo(map_62248cf5722811e03869a3a7fdaeb3ec);\n",
       "        \n",
       "    \n",
       "            var marker_6b92133ff385ab69a1084701b2aeed36 = L.marker(\n",
       "                [13.0227204, 77.595715],\n",
       "                {}\n",
       "            ).addTo(map_62248cf5722811e03869a3a7fdaeb3ec);\n",
       "        \n",
       "    \n",
       "            var marker_c21cdfbd8be90034edafb21e292736e0 = L.marker(\n",
       "                [12.9755264, 77.6067902],\n",
       "                {}\n",
       "            ).addTo(map_62248cf5722811e03869a3a7fdaeb3ec);\n",
       "        \n",
       "    \n",
       "            var marker_e711442d0891f7d7fbe2334756e37fae = L.marker(\n",
       "                [12.9699876, 77.6065344],\n",
       "                {}\n",
       "            ).addTo(map_62248cf5722811e03869a3a7fdaeb3ec);\n",
       "        \n",
       "    \n",
       "            var marker_931fb18f5f17b6899742c027ecaa9de7 = L.marker(\n",
       "                [12.9750062, 77.5998217],\n",
       "                {}\n",
       "            ).addTo(map_62248cf5722811e03869a3a7fdaeb3ec);\n",
       "        \n",
       "    \n",
       "            var marker_ed5d9432e9b36d274e395088d2a30c6d = L.marker(\n",
       "                [12.9749353, 77.6051324],\n",
       "                {}\n",
       "            ).addTo(map_62248cf5722811e03869a3a7fdaeb3ec);\n",
       "        \n",
       "    \n",
       "            var marker_b3c28c9db050b4866a7fa5730fa11ce8 = L.marker(\n",
       "                [12.9778793, 77.6246697],\n",
       "                {}\n",
       "            ).addTo(map_62248cf5722811e03869a3a7fdaeb3ec);\n",
       "        \n",
       "    \n",
       "            var marker_d5164a843fa69641b24fadc13af435c8 = L.marker(\n",
       "                [13.0527175, 77.6204272],\n",
       "                {}\n",
       "            ).addTo(map_62248cf5722811e03869a3a7fdaeb3ec);\n",
       "        \n",
       "    \n",
       "            var marker_c3c768d49ff98d7d890c0121e667fddf = L.marker(\n",
       "                [12.986391, 77.6075416],\n",
       "                {}\n",
       "            ).addTo(map_62248cf5722811e03869a3a7fdaeb3ec);\n",
       "        \n",
       "    \n",
       "            var marker_b8af090163d57bf3b68bdd7281b21d81 = L.marker(\n",
       "                [12.9834429, 77.5950891],\n",
       "                {}\n",
       "            ).addTo(map_62248cf5722811e03869a3a7fdaeb3ec);\n",
       "        \n",
       "    \n",
       "            var marker_83a91dd50ac247b447d3b30f02b14501 = L.marker(\n",
       "                [12.9845781, 77.5970428],\n",
       "                {}\n",
       "            ).addTo(map_62248cf5722811e03869a3a7fdaeb3ec);\n",
       "        \n",
       "    \n",
       "            var marker_60a24a28e7fca6429c8429a6c081492d = L.marker(\n",
       "                [12.9830667, 77.5768071],\n",
       "                {}\n",
       "            ).addTo(map_62248cf5722811e03869a3a7fdaeb3ec);\n",
       "        \n",
       "    \n",
       "            var marker_8ed6427fadff3cc0d55c477512798fa3 = L.marker(\n",
       "                [12.9821931, 77.6083132],\n",
       "                {}\n",
       "            ).addTo(map_62248cf5722811e03869a3a7fdaeb3ec);\n",
       "        \n",
       "    \n",
       "            var marker_d3ad32d325de1dc0ee9f350af30d98bf = L.marker(\n",
       "                [12.988721250000001, 77.58516877601824],\n",
       "                {}\n",
       "            ).addTo(map_62248cf5722811e03869a3a7fdaeb3ec);\n",
       "        \n",
       "    \n",
       "            var marker_0c1d507081a71042d3666497d2e4f321 = L.marker(\n",
       "                [13.0358698, 77.6323597],\n",
       "                {}\n",
       "            ).addTo(map_62248cf5722811e03869a3a7fdaeb3ec);\n",
       "        \n",
       "    \n",
       "            var marker_5d455f6982f3a0dee0b57cf418c3b3c7 = L.marker(\n",
       "                [12.9624669, 77.6381958],\n",
       "                {}\n",
       "            ).addTo(map_62248cf5722811e03869a3a7fdaeb3ec);\n",
       "        \n",
       "    \n",
       "            var marker_619838d147d6d2834d2873ac8609a65b = L.marker(\n",
       "                [12.945245, 77.6269144],\n",
       "                {}\n",
       "            ).addTo(map_62248cf5722811e03869a3a7fdaeb3ec);\n",
       "        \n",
       "    \n",
       "            var marker_cd8cbf626554efa8ee34f95e8da39b45 = L.marker(\n",
       "                [12.9678074, 77.6568367],\n",
       "                {}\n",
       "            ).addTo(map_62248cf5722811e03869a3a7fdaeb3ec);\n",
       "        \n",
       "    \n",
       "            var marker_956219d1fe7c9ae4314a766028fe26b5 = L.marker(\n",
       "                [13.0082247, 77.6924381],\n",
       "                {}\n",
       "            ).addTo(map_62248cf5722811e03869a3a7fdaeb3ec);\n",
       "        \n",
       "    \n",
       "            var marker_5a8300b09c317d9e1d20b23c0a685ac2 = L.marker(\n",
       "                [13.0027353, 77.5703253],\n",
       "                {}\n",
       "            ).addTo(map_62248cf5722811e03869a3a7fdaeb3ec);\n",
       "        \n",
       "    \n",
       "            var marker_3ac9a424eee72ed4255a4b912fd3192b = L.marker(\n",
       "                [12.9931876, 77.5753419],\n",
       "                {}\n",
       "            ).addTo(map_62248cf5722811e03869a3a7fdaeb3ec);\n",
       "        \n",
       "    \n",
       "            var marker_71a2fb702c0ae2bc469b41cf465379f4 = L.marker(\n",
       "                [13.0093455, 77.6377094],\n",
       "                {}\n",
       "            ).addTo(map_62248cf5722811e03869a3a7fdaeb3ec);\n",
       "        \n",
       "    \n",
       "            var marker_b6073970fc2d90a640fbfb8935ae0f6e = L.marker(\n",
       "                [12.9390255, 77.6238477],\n",
       "                {}\n",
       "            ).addTo(map_62248cf5722811e03869a3a7fdaeb3ec);\n",
       "        \n",
       "    \n",
       "            var marker_a00cac8722a9a6824d998c697ecc8351 = L.marker(\n",
       "                [12.9757079, 77.5728757],\n",
       "                {}\n",
       "            ).addTo(map_62248cf5722811e03869a3a7fdaeb3ec);\n",
       "        \n",
       "    \n",
       "            var marker_3e6c945424b8719ccb858c1d6cc41296 = L.marker(\n",
       "                [12.957998, 77.6037312],\n",
       "                {}\n",
       "            ).addTo(map_62248cf5722811e03869a3a7fdaeb3ec);\n",
       "        \n",
       "    \n",
       "            var marker_1e452a0327f3d753b2946b8e6d666acb = L.marker(\n",
       "                [13.0101286, 77.5548006],\n",
       "                {}\n",
       "            ).addTo(map_62248cf5722811e03869a3a7fdaeb3ec);\n",
       "        \n",
       "    \n",
       "            var marker_88e17b2d65412de84dfd613b65a9d853 = L.marker(\n",
       "                [12.9578658, 77.6958748],\n",
       "                {}\n",
       "            ).addTo(map_62248cf5722811e03869a3a7fdaeb3ec);\n",
       "        \n",
       "    \n",
       "            var marker_deef22a302668e55c8f495c99fa26440 = L.marker(\n",
       "                [12.9668213, 77.7168891],\n",
       "                {}\n",
       "            ).addTo(map_62248cf5722811e03869a3a7fdaeb3ec);\n",
       "        \n",
       "    \n",
       "            var marker_cc013251d8ceb4953233022118c65656 = L.marker(\n",
       "                [12.9805104, 77.7272748],\n",
       "                {}\n",
       "            ).addTo(map_62248cf5722811e03869a3a7fdaeb3ec);\n",
       "        \n",
       "    \n",
       "            var marker_83c75b97ae6ad943bc5fc47a01d40c8f = L.marker(\n",
       "                [12.9413238, 77.7471103],\n",
       "                {}\n",
       "            ).addTo(map_62248cf5722811e03869a3a7fdaeb3ec);\n",
       "        \n",
       "    \n",
       "            var marker_5c2d0509e3cb0f734016df1415125ebb = L.marker(\n",
       "                [13.007516, 77.695935],\n",
       "                {}\n",
       "            ).addTo(map_62248cf5722811e03869a3a7fdaeb3ec);\n",
       "        \n",
       "    \n",
       "            var marker_e12aa32c4202b79bd0d41bf45af9a911 = L.marker(\n",
       "                [12.9243692, 77.6242433],\n",
       "                {}\n",
       "            ).addTo(map_62248cf5722811e03869a3a7fdaeb3ec);\n",
       "        \n",
       "    \n",
       "            var marker_8c2699ef171ea2c74e79da400dc1b0d2 = L.marker(\n",
       "                [12.9282918, 77.6254034],\n",
       "                {}\n",
       "            ).addTo(map_62248cf5722811e03869a3a7fdaeb3ec);\n",
       "        \n",
       "    \n",
       "            var marker_32e6555bfba4fc68b70cd4842705898f = L.marker(\n",
       "                [12.9340114, 77.6222304],\n",
       "                {}\n",
       "            ).addTo(map_62248cf5722811e03869a3a7fdaeb3ec);\n",
       "        \n",
       "    \n",
       "            var marker_0ed5707bfba39e728b3e79f9d94db844 = L.marker(\n",
       "                [12.9196804, 77.6210467],\n",
       "                {}\n",
       "            ).addTo(map_62248cf5722811e03869a3a7fdaeb3ec);\n",
       "        \n",
       "    \n",
       "            var marker_3a34cf72398830421c20e22da01cd0b3 = L.marker(\n",
       "                [12.9882338, 77.554883],\n",
       "                {}\n",
       "            ).addTo(map_62248cf5722811e03869a3a7fdaeb3ec);\n",
       "        \n",
       "    \n",
       "            var marker_4cb03b683cba73c3d7f456bf23f6b768 = L.marker(\n",
       "                [13.0141618, 77.6518539],\n",
       "                {}\n",
       "            ).addTo(map_62248cf5722811e03869a3a7fdaeb3ec);\n",
       "        \n",
       "    \n",
       "            var marker_22b4e3aa07d8d0e2b52fea03ceff6077 = L.marker(\n",
       "                [12.9767936, 77.590082],\n",
       "                {}\n",
       "            ).addTo(map_62248cf5722811e03869a3a7fdaeb3ec);\n",
       "        \n",
       "    \n",
       "            var marker_ef018b9968fed63e749d00295775b251 = L.marker(\n",
       "                [13.0431413, 77.6209093],\n",
       "                {}\n",
       "            ).addTo(map_62248cf5722811e03869a3a7fdaeb3ec);\n",
       "        \n",
       "    \n",
       "            var marker_46f97165f3cb4121d50d13ea649373b4 = L.marker(\n",
       "                [13.0258087, 77.6305067],\n",
       "                {}\n",
       "            ).addTo(map_62248cf5722811e03869a3a7fdaeb3ec);\n",
       "        \n",
       "    \n",
       "            var marker_7a69fa9f253042d0e7d074ed06be9847 = L.marker(\n",
       "                [13.0221416, 77.6403368],\n",
       "                {}\n",
       "            ).addTo(map_62248cf5722811e03869a3a7fdaeb3ec);\n",
       "        \n",
       "    \n",
       "            var marker_1d1b568d1e81c6f0ec2611882e39aff8 = L.marker(\n",
       "                [13.0376257, 77.5654963],\n",
       "                {}\n",
       "            ).addTo(map_62248cf5722811e03869a3a7fdaeb3ec);\n",
       "        \n",
       "    \n",
       "            var marker_a5dd2e6fd4b1ce9fc283ff5647007b4b = L.marker(\n",
       "                [13.0784743, 77.6068938],\n",
       "                {}\n",
       "            ).addTo(map_62248cf5722811e03869a3a7fdaeb3ec);\n",
       "        \n",
       "    \n",
       "            var marker_ca219be88f864b557687110aceaeef2d = L.marker(\n",
       "                [12.973936, 77.6509982],\n",
       "                {}\n",
       "            ).addTo(map_62248cf5722811e03869a3a7fdaeb3ec);\n",
       "        \n",
       "    \n",
       "            var marker_91fd97c92e2f58477b86558eb449ec85 = L.marker(\n",
       "                [12.9846713, 77.6790908],\n",
       "                {}\n",
       "            ).addTo(map_62248cf5722811e03869a3a7fdaeb3ec);\n",
       "        \n",
       "    \n",
       "            var marker_df3180c1d62808e4414dd705d929af5c = L.marker(\n",
       "                [13.0382184, 77.5919],\n",
       "                {}\n",
       "            ).addTo(map_62248cf5722811e03869a3a7fdaeb3ec);\n",
       "        \n",
       "    \n",
       "            var marker_3cc9bf7bbe71ab3d6ebdcaefa6f7947e = L.marker(\n",
       "                [12.9176571, 77.4837568],\n",
       "                {}\n",
       "            ).addTo(map_62248cf5722811e03869a3a7fdaeb3ec);\n",
       "        \n",
       "    \n",
       "            var marker_b75a79bc359436e77a71b3eb8f529fbe = L.marker(\n",
       "                [12.9993929, 77.5842337],\n",
       "                {}\n",
       "            ).addTo(map_62248cf5722811e03869a3a7fdaeb3ec);\n",
       "        \n",
       "    \n",
       "            var marker_945cfa05b9264ee2d8454eee817709f7 = L.marker(\n",
       "                [12.9931607, 77.5394749],\n",
       "                {}\n",
       "            ).addTo(map_62248cf5722811e03869a3a7fdaeb3ec);\n",
       "        \n",
       "    \n",
       "            var marker_e43bfcd1f77868ff222e0c9e6f1ae761 = L.marker(\n",
       "                [13.02383, 77.5529215],\n",
       "                {}\n",
       "            ).addTo(map_62248cf5722811e03869a3a7fdaeb3ec);\n",
       "        \n",
       "    \n",
       "            var marker_f9eb670705ec646c47abd184025f140a = L.marker(\n",
       "                [12.94945565, 77.5171005577231],\n",
       "                {}\n",
       "            ).addTo(map_62248cf5722811e03869a3a7fdaeb3ec);\n",
       "        \n",
       "    \n",
       "            var marker_426052cf9fa60e381e846aa7124befe5 = L.marker(\n",
       "                [12.975608, 77.5553564],\n",
       "                {}\n",
       "            ).addTo(map_62248cf5722811e03869a3a7fdaeb3ec);\n",
       "        \n",
       "    \n",
       "            var marker_29e5a96a9c7604997c1cb063d2a77e42 = L.marker(\n",
       "                [13.1006982, 77.5963454],\n",
       "                {}\n",
       "            ).addTo(map_62248cf5722811e03869a3a7fdaeb3ec);\n",
       "        \n",
       "    \n",
       "            var marker_e0ae122dcfb497f1ef5a817a75f1d65c = L.marker(\n",
       "                [13.0621474, 77.58006135480495],\n",
       "                {}\n",
       "            ).addTo(map_62248cf5722811e03869a3a7fdaeb3ec);\n",
       "        \n",
       "    \n",
       "            var marker_b1ef19d4c254bf88edfe5e51359c5dc3 = L.marker(\n",
       "                [13.0329419, 77.5273253],\n",
       "                {}\n",
       "            ).addTo(map_62248cf5722811e03869a3a7fdaeb3ec);\n",
       "        \n",
       "&lt;/script&gt;\" style=\"position:absolute;width:100%;height:100%;left:0;top:0;border:none !important;\" allowfullscreen webkitallowfullscreen mozallowfullscreen></iframe></div></div>"
      ],
      "text/plain": [
       "<folium.folium.Map at 0x1a81f8c8220>"
      ]
     },
     "execution_count": 64,
     "metadata": {},
     "output_type": "execute_result"
    }
   ],
   "source": [
    "import folium\n",
    "\n",
    "#Create a map object and centre it to the average coordinate to m\n",
    "m = folium.Map(location = location_point[[\"lat\",\"lon\"]].mean().to_list(), zoom_start = 2)\n",
    "\n",
    "for i in range(0,len(location_point)):\n",
    "    folium.Marker([location_point.iloc[i]['lat'], location_point.iloc[i]['lon']]).add_to(m)\n",
    "m"
   ]
  },
  {
   "cell_type": "markdown",
   "id": "aeaffee6",
   "metadata": {},
   "source": [
    "Make this Notebook Trusted to load map: File -> Trust Notebook\n",
    "\n",
    "\n",
    "Please zoom into the map to see the unique places where restaurants are located. Two points are not present in Bengaluru, may be that's due to the wrong information returned by Geopy"
   ]
  },
  {
   "cell_type": "code",
   "execution_count": 65,
   "id": "24be7531",
   "metadata": {},
   "outputs": [
    {
     "data": {
      "text/plain": [
       "location\n",
       "St. Marks Road,Bengaluru           4.017201\n",
       "Lavelle Road,Bengaluru             4.009943\n",
       "Church Street,Bengaluru            3.931810\n",
       "Sankey Road,Bengaluru              3.911111\n",
       "Koramangala 5th Block,Bengaluru    3.896610\n",
       "Koramangala 3rd Block,Bengaluru    3.857009\n",
       "Cunningham Road,Bengaluru          3.855397\n",
       "Rajarajeshwari Nagar,Bengaluru     3.850000\n",
       "Langford Town,Bengaluru            3.807407\n",
       "Race Course Road,Bengaluru         3.745324\n",
       "Name: rate, dtype: float64"
      ]
     },
     "execution_count": 65,
     "metadata": {},
     "output_type": "execute_result"
    }
   ],
   "source": [
    "data.groupby('location')['rate'].mean().sort_values(ascending = False).head(10)"
   ]
  },
  {
   "cell_type": "markdown",
   "id": "dea30460",
   "metadata": {},
   "source": [
    "The above 10 locations have the best average ratings. These are the paces you must visit if you are a food lover."
   ]
  },
  {
   "cell_type": "markdown",
   "id": "13f5f630",
   "metadata": {},
   "source": [
    "# Cuisines"
   ]
  },
  {
   "cell_type": "code",
   "execution_count": 66,
   "id": "d5ce9ae9",
   "metadata": {},
   "outputs": [
    {
     "data": {
      "text/plain": [
       "array(['North Indian, Mughlai, Chinese', 'Chinese, North Indian, Thai',\n",
       "       'Cafe, Mexican, Italian', ...,\n",
       "       'North Indian, Street Food, Biryani', 'Chinese, Mughlai',\n",
       "       'North Indian, Chinese, Arabian, Momos'], dtype=object)"
      ]
     },
     "execution_count": 66,
     "metadata": {},
     "output_type": "execute_result"
    }
   ],
   "source": [
    "data['cuisines'].unique()"
   ]
  },
  {
   "cell_type": "markdown",
   "id": "5530bf93",
   "metadata": {},
   "source": [
    "In order to analyse the cuisine column, let's make a new column called 'Number_of_cuisines_offered'."
   ]
  },
  {
   "cell_type": "code",
   "execution_count": 67,
   "id": "021f1604",
   "metadata": {},
   "outputs": [
    {
     "data": {
      "text/plain": [
       "2"
      ]
     },
     "execution_count": 67,
     "metadata": {},
     "output_type": "execute_result"
    }
   ],
   "source": [
    "len(data['cuisines'][4].split(','))"
   ]
  },
  {
   "cell_type": "code",
   "execution_count": 68,
   "id": "0eb36faf",
   "metadata": {},
   "outputs": [],
   "source": [
    "data['Number_of_cuisines_offered'] = data['cuisines'].apply(lambda x : len(x.split(',')))"
   ]
  },
  {
   "cell_type": "code",
   "execution_count": 69,
   "id": "2c79c8b2",
   "metadata": {},
   "outputs": [
    {
     "data": {
      "text/html": [
       "<div>\n",
       "<style scoped>\n",
       "    .dataframe tbody tr th:only-of-type {\n",
       "        vertical-align: middle;\n",
       "    }\n",
       "\n",
       "    .dataframe tbody tr th {\n",
       "        vertical-align: top;\n",
       "    }\n",
       "\n",
       "    .dataframe thead th {\n",
       "        text-align: right;\n",
       "    }\n",
       "</style>\n",
       "<table border=\"1\" class=\"dataframe\">\n",
       "  <thead>\n",
       "    <tr style=\"text-align: right;\">\n",
       "      <th></th>\n",
       "      <th>online_order</th>\n",
       "      <th>book_table</th>\n",
       "      <th>rate</th>\n",
       "      <th>votes</th>\n",
       "      <th>approx_cost(for two people)</th>\n",
       "      <th>Number_of_cuisines_offered</th>\n",
       "    </tr>\n",
       "  </thead>\n",
       "  <tbody>\n",
       "    <tr>\n",
       "      <th>online_order</th>\n",
       "      <td>1.000000</td>\n",
       "      <td>-0.002504</td>\n",
       "      <td>0.242004</td>\n",
       "      <td>0.034114</td>\n",
       "      <td>-0.084069</td>\n",
       "      <td>0.106474</td>\n",
       "    </tr>\n",
       "    <tr>\n",
       "      <th>book_table</th>\n",
       "      <td>-0.002504</td>\n",
       "      <td>1.000000</td>\n",
       "      <td>0.391537</td>\n",
       "      <td>0.405981</td>\n",
       "      <td>0.618064</td>\n",
       "      <td>0.263471</td>\n",
       "    </tr>\n",
       "    <tr>\n",
       "      <th>rate</th>\n",
       "      <td>0.242004</td>\n",
       "      <td>0.391537</td>\n",
       "      <td>1.000000</td>\n",
       "      <td>0.406135</td>\n",
       "      <td>0.404836</td>\n",
       "      <td>0.247356</td>\n",
       "    </tr>\n",
       "    <tr>\n",
       "      <th>votes</th>\n",
       "      <td>0.034114</td>\n",
       "      <td>0.405981</td>\n",
       "      <td>0.406135</td>\n",
       "      <td>1.000000</td>\n",
       "      <td>0.381563</td>\n",
       "      <td>0.231998</td>\n",
       "    </tr>\n",
       "    <tr>\n",
       "      <th>approx_cost(for two people)</th>\n",
       "      <td>-0.084069</td>\n",
       "      <td>0.618064</td>\n",
       "      <td>0.404836</td>\n",
       "      <td>0.381563</td>\n",
       "      <td>1.000000</td>\n",
       "      <td>0.268651</td>\n",
       "    </tr>\n",
       "    <tr>\n",
       "      <th>Number_of_cuisines_offered</th>\n",
       "      <td>0.106474</td>\n",
       "      <td>0.263471</td>\n",
       "      <td>0.247356</td>\n",
       "      <td>0.231998</td>\n",
       "      <td>0.268651</td>\n",
       "      <td>1.000000</td>\n",
       "    </tr>\n",
       "  </tbody>\n",
       "</table>\n",
       "</div>"
      ],
      "text/plain": [
       "                             online_order  book_table      rate     votes  \\\n",
       "online_order                     1.000000   -0.002504  0.242004  0.034114   \n",
       "book_table                      -0.002504    1.000000  0.391537  0.405981   \n",
       "rate                             0.242004    0.391537  1.000000  0.406135   \n",
       "votes                            0.034114    0.405981  0.406135  1.000000   \n",
       "approx_cost(for two people)     -0.084069    0.618064  0.404836  0.381563   \n",
       "Number_of_cuisines_offered       0.106474    0.263471  0.247356  0.231998   \n",
       "\n",
       "                             approx_cost(for two people)  \\\n",
       "online_order                                   -0.084069   \n",
       "book_table                                      0.618064   \n",
       "rate                                            0.404836   \n",
       "votes                                           0.381563   \n",
       "approx_cost(for two people)                     1.000000   \n",
       "Number_of_cuisines_offered                      0.268651   \n",
       "\n",
       "                             Number_of_cuisines_offered  \n",
       "online_order                                   0.106474  \n",
       "book_table                                     0.263471  \n",
       "rate                                           0.247356  \n",
       "votes                                          0.231998  \n",
       "approx_cost(for two people)                    0.268651  \n",
       "Number_of_cuisines_offered                     1.000000  "
      ]
     },
     "execution_count": 69,
     "metadata": {},
     "output_type": "execute_result"
    }
   ],
   "source": [
    "data.corr()"
   ]
  },
  {
   "cell_type": "code",
   "execution_count": 70,
   "id": "f9d6caa6",
   "metadata": {},
   "outputs": [
    {
     "data": {
      "text/html": [
       "<style type=\"text/css\">\n",
       "#T_85d17_row0_col0 {\n",
       "  background-color: #ffa500;\n",
       "  color: #000000;\n",
       "}\n",
       "#T_85d17_row1_col0 {\n",
       "  background-color: #f5e0bb;\n",
       "  color: #000000;\n",
       "}\n",
       "#T_85d17_row2_col0 {\n",
       "  background-color: #f5e0bc;\n",
       "  color: #000000;\n",
       "}\n",
       "#T_85d17_row3_col0 {\n",
       "  background-color: #f5e1c0;\n",
       "  color: #000000;\n",
       "}\n",
       "#T_85d17_row4_col0 {\n",
       "  background-color: #f3f0ed;\n",
       "  color: #000000;\n",
       "}\n",
       "#T_85d17_row5_col0 {\n",
       "  background-color: #f3f0ee;\n",
       "  color: #000000;\n",
       "}\n",
       "</style>\n",
       "<table id=\"T_85d17_\">\n",
       "  <thead>\n",
       "    <tr>\n",
       "      <th class=\"blank level0\" >&nbsp;</th>\n",
       "      <th class=\"col_heading level0 col0\" >rate</th>\n",
       "    </tr>\n",
       "  </thead>\n",
       "  <tbody>\n",
       "    <tr>\n",
       "      <th id=\"T_85d17_level0_row0\" class=\"row_heading level0 row0\" >rate</th>\n",
       "      <td id=\"T_85d17_row0_col0\" class=\"data row0 col0\" >1.000000</td>\n",
       "    </tr>\n",
       "    <tr>\n",
       "      <th id=\"T_85d17_level0_row1\" class=\"row_heading level0 row1\" >votes</th>\n",
       "      <td id=\"T_85d17_row1_col0\" class=\"data row1 col0\" >0.406135</td>\n",
       "    </tr>\n",
       "    <tr>\n",
       "      <th id=\"T_85d17_level0_row2\" class=\"row_heading level0 row2\" >approx_cost(for two people)</th>\n",
       "      <td id=\"T_85d17_row2_col0\" class=\"data row2 col0\" >0.404836</td>\n",
       "    </tr>\n",
       "    <tr>\n",
       "      <th id=\"T_85d17_level0_row3\" class=\"row_heading level0 row3\" >book_table</th>\n",
       "      <td id=\"T_85d17_row3_col0\" class=\"data row3 col0\" >0.391537</td>\n",
       "    </tr>\n",
       "    <tr>\n",
       "      <th id=\"T_85d17_level0_row4\" class=\"row_heading level0 row4\" >Number_of_cuisines_offered</th>\n",
       "      <td id=\"T_85d17_row4_col0\" class=\"data row4 col0\" >0.247356</td>\n",
       "    </tr>\n",
       "    <tr>\n",
       "      <th id=\"T_85d17_level0_row5\" class=\"row_heading level0 row5\" >online_order</th>\n",
       "      <td id=\"T_85d17_row5_col0\" class=\"data row5 col0\" >0.242004</td>\n",
       "    </tr>\n",
       "  </tbody>\n",
       "</table>\n"
      ],
      "text/plain": [
       "<pandas.io.formats.style.Styler at 0x1a820e950d0>"
      ]
     },
     "execution_count": 70,
     "metadata": {},
     "output_type": "execute_result"
    }
   ],
   "source": [
    "correlation = data.corr()['rate'].sort_values(ascending = False).to_frame().head(10)\n",
    "\n",
    "cmap = sns.light_palette(\"orange\", as_cmap = True)\n",
    "\n",
    "s = correlation.style.background_gradient(cmap = cmap)\n",
    "\n",
    "s"
   ]
  },
  {
   "cell_type": "markdown",
   "id": "c5189237",
   "metadata": {},
   "source": [
    "Number of cuisines offered have very little correlation with the rating."
   ]
  },
  {
   "cell_type": "code",
   "execution_count": 71,
   "id": "9df620d8",
   "metadata": {},
   "outputs": [
    {
     "data": {
      "image/png": "[encoded data removed]",
      "text/plain": [
       "<Figure size 576x576 with 1 Axes>"
      ]
     },
     "metadata": {},
     "output_type": "display_data"
    }
   ],
   "source": [
    "# Pie chart\n",
    "labels = data['listed_in(type)'].value_counts().index\n",
    "sizes = data['listed_in(type)'].value_counts().values\n",
    "# only \"explode\" the 2nd slice (i.e. 'Hogs')\n",
    "explode = (0.1, 0.1, 0.1, 0.1, 0.1, 0.1, 0.1)\n",
    "fig1, ax1 = plt.subplots(figsize = (8, 8))\n",
    "\n",
    "ax1.pie(sizes, labels = labels,\n",
    "        shadow = True, startangle = 90, explode = explode, rotatelabels = True)\n",
    "centre_circle = plt.Circle((0, 0), 0.70,fc = 'white')\n",
    "fig = plt.gcf()\n",
    "fig.gca().add_artist(centre_circle)\n",
    "\n",
    "# Equal aspect ratio ensures that pie is drawn as a circle\n",
    "ax1.axis('equal')  \n",
    "plt.tight_layout()\n",
    "plt.show()"
   ]
  },
  {
   "cell_type": "markdown",
   "id": "58921f53",
   "metadata": {},
   "source": [
    "Majority of the restaurants Delivers the food to the homes, very less proportion are pubs and bars or Drinks & nightlife."
   ]
  },
  {
   "cell_type": "code",
   "execution_count": 72,
   "id": "c4ac25e8",
   "metadata": {},
   "outputs": [
    {
     "data": {
      "image/png": "[encoded data removed]",
      "text/plain": [
       "<Figure size 576x576 with 1 Axes>"
      ]
     },
     "metadata": {
      "needs_background": "light"
     },
     "output_type": "display_data"
    }
   ],
   "source": [
    "plt.figure(figsize = (8, 8))\n",
    "g = sns.boxplot(x = 'listed_in(type)', y = 'rate', data = data)\n",
    "plt.xticks(rotation = 90)\n",
    "plt.show()"
   ]
  },
  {
   "cell_type": "markdown",
   "id": "305c0da1",
   "metadata": {},
   "source": [
    "Majority of the Restaurants of type 'Drinks & nightlife' and 'Pubs and bars' have a high median rating. The median value of these kind of restaurants is greater than the 75th Percentile value of rest of the restaurant types except that of 'Buffet' type. The IQR is highest for 'Desserts' category which indicates large amount of variation about median."
   ]
  },
  {
   "cell_type": "markdown",
   "id": "43812691",
   "metadata": {},
   "source": [
    "# MODELS"
   ]
  },
  {
   "cell_type": "code",
   "execution_count": 73,
   "id": "25e6a3e7",
   "metadata": {},
   "outputs": [
    {
     "data": {
      "text/html": [
       "<div>\n",
       "<style scoped>\n",
       "    .dataframe tbody tr th:only-of-type {\n",
       "        vertical-align: middle;\n",
       "    }\n",
       "\n",
       "    .dataframe tbody tr th {\n",
       "        vertical-align: top;\n",
       "    }\n",
       "\n",
       "    .dataframe thead th {\n",
       "        text-align: right;\n",
       "    }\n",
       "</style>\n",
       "<table border=\"1\" class=\"dataframe\">\n",
       "  <thead>\n",
       "    <tr style=\"text-align: right;\">\n",
       "      <th></th>\n",
       "      <th>name</th>\n",
       "      <th>online_order</th>\n",
       "      <th>book_table</th>\n",
       "      <th>rate</th>\n",
       "      <th>votes</th>\n",
       "      <th>location</th>\n",
       "      <th>rest_type</th>\n",
       "      <th>cuisines</th>\n",
       "      <th>approx_cost(for two people)</th>\n",
       "      <th>reviews_list</th>\n",
       "      <th>menu_item</th>\n",
       "      <th>listed_in(type)</th>\n",
       "      <th>Number_of_cuisines_offered</th>\n",
       "    </tr>\n",
       "  </thead>\n",
       "  <tbody>\n",
       "    <tr>\n",
       "      <th>0</th>\n",
       "      <td>0</td>\n",
       "      <td>0</td>\n",
       "      <td>0</td>\n",
       "      <td>4.1</td>\n",
       "      <td>775</td>\n",
       "      <td>0</td>\n",
       "      <td>0</td>\n",
       "      <td>0</td>\n",
       "      <td>0</td>\n",
       "      <td>0</td>\n",
       "      <td>0</td>\n",
       "      <td>0</td>\n",
       "      <td>0</td>\n",
       "    </tr>\n",
       "    <tr>\n",
       "      <th>1</th>\n",
       "      <td>1</td>\n",
       "      <td>0</td>\n",
       "      <td>1</td>\n",
       "      <td>4.1</td>\n",
       "      <td>787</td>\n",
       "      <td>0</td>\n",
       "      <td>0</td>\n",
       "      <td>1</td>\n",
       "      <td>0</td>\n",
       "      <td>1</td>\n",
       "      <td>0</td>\n",
       "      <td>0</td>\n",
       "      <td>0</td>\n",
       "    </tr>\n",
       "    <tr>\n",
       "      <th>2</th>\n",
       "      <td>2</td>\n",
       "      <td>0</td>\n",
       "      <td>1</td>\n",
       "      <td>3.8</td>\n",
       "      <td>918</td>\n",
       "      <td>0</td>\n",
       "      <td>1</td>\n",
       "      <td>2</td>\n",
       "      <td>0</td>\n",
       "      <td>2</td>\n",
       "      <td>0</td>\n",
       "      <td>0</td>\n",
       "      <td>0</td>\n",
       "    </tr>\n",
       "    <tr>\n",
       "      <th>3</th>\n",
       "      <td>3</td>\n",
       "      <td>1</td>\n",
       "      <td>1</td>\n",
       "      <td>3.7</td>\n",
       "      <td>88</td>\n",
       "      <td>0</td>\n",
       "      <td>2</td>\n",
       "      <td>3</td>\n",
       "      <td>1</td>\n",
       "      <td>3</td>\n",
       "      <td>0</td>\n",
       "      <td>0</td>\n",
       "      <td>1</td>\n",
       "    </tr>\n",
       "    <tr>\n",
       "      <th>4</th>\n",
       "      <td>4</td>\n",
       "      <td>1</td>\n",
       "      <td>1</td>\n",
       "      <td>3.8</td>\n",
       "      <td>166</td>\n",
       "      <td>1</td>\n",
       "      <td>0</td>\n",
       "      <td>4</td>\n",
       "      <td>2</td>\n",
       "      <td>4</td>\n",
       "      <td>0</td>\n",
       "      <td>0</td>\n",
       "      <td>1</td>\n",
       "    </tr>\n",
       "  </tbody>\n",
       "</table>\n",
       "</div>"
      ],
      "text/plain": [
       "   name  online_order  book_table  rate  votes  location  rest_type  cuisines  \\\n",
       "0     0             0           0   4.1    775         0          0         0   \n",
       "1     1             0           1   4.1    787         0          0         1   \n",
       "2     2             0           1   3.8    918         0          1         2   \n",
       "3     3             1           1   3.7     88         0          2         3   \n",
       "4     4             1           1   3.8    166         1          0         4   \n",
       "\n",
       "   approx_cost(for two people)  reviews_list  menu_item  listed_in(type)  \\\n",
       "0                            0             0          0                0   \n",
       "1                            0             1          0                0   \n",
       "2                            0             2          0                0   \n",
       "3                            1             3          0                0   \n",
       "4                            2             4          0                0   \n",
       "\n",
       "   Number_of_cuisines_offered  \n",
       "0                           0  \n",
       "1                           0  \n",
       "2                           0  \n",
       "3                           1  \n",
       "4                           1  "
      ]
     },
     "execution_count": 73,
     "metadata": {},
     "output_type": "execute_result"
    }
   ],
   "source": [
    "#Encode the input Variables\n",
    "def Encode(data):\n",
    "    for column in data.columns[~data.columns.isin(['rate', 'cost', 'votes'])]:\n",
    "        data[column] = data[column].factorize()[0]\n",
    "    return data\n",
    "\n",
    "zomato_en = Encode(data.copy())\n",
    "zomato_en.head()"
   ]
  },
  {
   "cell_type": "code",
   "execution_count": 74,
   "id": "26f1378c",
   "metadata": {},
   "outputs": [
    {
     "data": {
      "text/html": [
       "<div>\n",
       "<style scoped>\n",
       "    .dataframe tbody tr th:only-of-type {\n",
       "        vertical-align: middle;\n",
       "    }\n",
       "\n",
       "    .dataframe tbody tr th {\n",
       "        vertical-align: top;\n",
       "    }\n",
       "\n",
       "    .dataframe thead th {\n",
       "        text-align: right;\n",
       "    }\n",
       "</style>\n",
       "<table border=\"1\" class=\"dataframe\">\n",
       "  <thead>\n",
       "    <tr style=\"text-align: right;\">\n",
       "      <th></th>\n",
       "      <th>online_order</th>\n",
       "      <th>book_table</th>\n",
       "      <th>votes</th>\n",
       "      <th>location</th>\n",
       "      <th>rest_type</th>\n",
       "      <th>cuisines</th>\n",
       "      <th>approx_cost(for two people)</th>\n",
       "      <th>menu_item</th>\n",
       "    </tr>\n",
       "  </thead>\n",
       "  <tbody>\n",
       "    <tr>\n",
       "      <th>14566</th>\n",
       "      <td>1</td>\n",
       "      <td>0</td>\n",
       "      <td>410</td>\n",
       "      <td>17</td>\n",
       "      <td>17</td>\n",
       "      <td>724</td>\n",
       "      <td>20</td>\n",
       "      <td>0</td>\n",
       "    </tr>\n",
       "    <tr>\n",
       "      <th>21150</th>\n",
       "      <td>1</td>\n",
       "      <td>1</td>\n",
       "      <td>33</td>\n",
       "      <td>3</td>\n",
       "      <td>0</td>\n",
       "      <td>279</td>\n",
       "      <td>5</td>\n",
       "      <td>0</td>\n",
       "    </tr>\n",
       "    <tr>\n",
       "      <th>7258</th>\n",
       "      <td>1</td>\n",
       "      <td>1</td>\n",
       "      <td>0</td>\n",
       "      <td>30</td>\n",
       "      <td>2</td>\n",
       "      <td>38</td>\n",
       "      <td>17</td>\n",
       "      <td>0</td>\n",
       "    </tr>\n",
       "    <tr>\n",
       "      <th>19921</th>\n",
       "      <td>0</td>\n",
       "      <td>1</td>\n",
       "      <td>99</td>\n",
       "      <td>12</td>\n",
       "      <td>2</td>\n",
       "      <td>3</td>\n",
       "      <td>1</td>\n",
       "      <td>3316</td>\n",
       "    </tr>\n",
       "    <tr>\n",
       "      <th>23847</th>\n",
       "      <td>1</td>\n",
       "      <td>0</td>\n",
       "      <td>151</td>\n",
       "      <td>3</td>\n",
       "      <td>35</td>\n",
       "      <td>2149</td>\n",
       "      <td>34</td>\n",
       "      <td>0</td>\n",
       "    </tr>\n",
       "  </tbody>\n",
       "</table>\n",
       "</div>"
      ],
      "text/plain": [
       "       online_order  book_table  votes  location  rest_type  cuisines  \\\n",
       "14566             1           0    410        17         17       724   \n",
       "21150             1           1     33         3          0       279   \n",
       "7258              1           1      0        30          2        38   \n",
       "19921             0           1     99        12          2         3   \n",
       "23847             1           0    151         3         35      2149   \n",
       "\n",
       "       approx_cost(for two people)  menu_item  \n",
       "14566                           20          0  \n",
       "21150                            5          0  \n",
       "7258                            17          0  \n",
       "19921                            1       3316  \n",
       "23847                           34          0  "
      ]
     },
     "execution_count": 74,
     "metadata": {},
     "output_type": "execute_result"
    }
   ],
   "source": [
    "from sklearn.model_selection import train_test_split\n",
    "\n",
    "x = zomato_en.iloc[:,[1,2,4,5,6,7,8,10]] \n",
    "y = zomato_en['rate']\n",
    "#Getting Test and Training Set\n",
    "x_train,x_test,y_train,y_test=train_test_split(x,y,test_size=.1,random_state=353)\n",
    "x_train.head()"
   ]
  },
  {
   "cell_type": "markdown",
   "id": "8b448a80",
   "metadata": {},
   "source": [
    "### 1.Linear Regression"
   ]
  },
  {
   "cell_type": "code",
   "execution_count": 75,
   "id": "407d0044",
   "metadata": {},
   "outputs": [
    {
     "data": {
      "text/plain": [
       "0.2934613468548817"
      ]
     },
     "execution_count": 75,
     "metadata": {},
     "output_type": "execute_result"
    }
   ],
   "source": [
    "#Prepare a Linear Regression Model\n",
    "from sklearn.linear_model import LinearRegression\n",
    "reg=LinearRegression()\n",
    "reg.fit(x_train,y_train)\n",
    "y_pred=reg.predict(x_test) \n",
    "\n",
    "from sklearn.metrics import r2_score\n",
    "r2_score(y_test,y_pred)"
   ]
  },
  {
   "cell_type": "markdown",
   "id": "a8d79696",
   "metadata": {},
   "source": [
    "### 2.LASSO REGRESSION"
   ]
  },
  {
   "cell_type": "code",
   "execution_count": 76,
   "id": "4bd6735f",
   "metadata": {},
   "outputs": [
    {
     "name": "stderr",
     "output_type": "stream",
     "text": [
      "C:\\Users\\Prapti\\anaconda3\\lib\\site-packages\\sklearn\\linear_model\\_base.py:141: FutureWarning: 'normalize' was deprecated in version 1.0 and will be removed in 1.2.\n",
      "If you wish to scale the data, use Pipeline with a StandardScaler in a preprocessing stage. To reproduce the previous behavior:\n",
      "\n",
      "from sklearn.pipeline import make_pipeline\n",
      "\n",
      "model = make_pipeline(StandardScaler(with_mean=False), Lasso())\n",
      "\n",
      "If you wish to pass a sample_weight parameter, you need to pass it as a fit parameter to each step of the pipeline as follows:\n",
      "\n",
      "kwargs = {s[0] + '__sample_weight': sample_weight for s in model.steps}\n",
      "model.fit(X, y, **kwargs)\n",
      "\n",
      "Set parameter alpha to: original_alpha * np.sqrt(n_samples). \n",
      "  warnings.warn(\n"
     ]
    },
    {
     "data": {
      "text/html": [
       "<style>#sk-container-id-1 {color: black;background-color: white;}#sk-container-id-1 pre{padding: 0;}#sk-container-id-1 div.sk-toggleable {background-color: white;}#sk-container-id-1 label.sk-toggleable__label {cursor: pointer;display: block;width: 100%;margin-bottom: 0;padding: 0.3em;box-sizing: border-box;text-align: center;}#sk-container-id-1 label.sk-toggleable__label-arrow:before {content: \"▸\";float: left;margin-right: 0.25em;color: #696969;}#sk-container-id-1 label.sk-toggleable__label-arrow:hover:before {color: black;}#sk-container-id-1 div.sk-estimator:hover label.sk-toggleable__label-arrow:before {color: black;}#sk-container-id-1 div.sk-toggleable__content {max-height: 0;max-width: 0;overflow: hidden;text-align: left;background-color: #f0f8ff;}#sk-container-id-1 div.sk-toggleable__content pre {margin: 0.2em;color: black;border-radius: 0.25em;background-color: #f0f8ff;}#sk-container-id-1 input.sk-toggleable__control:checked~div.sk-toggleable__content {max-height: 200px;max-width: 100%;overflow: auto;}#sk-container-id-1 input.sk-toggleable__control:checked~label.sk-toggleable__label-arrow:before {content: \"▾\";}#sk-container-id-1 div.sk-estimator input.sk-toggleable__control:checked~label.sk-toggleable__label {background-color: #d4ebff;}#sk-container-id-1 div.sk-label input.sk-toggleable__control:checked~label.sk-toggleable__label {background-color: #d4ebff;}#sk-container-id-1 input.sk-hidden--visually {border: 0;clip: rect(1px 1px 1px 1px);clip: rect(1px, 1px, 1px, 1px);height: 1px;margin: -1px;overflow: hidden;padding: 0;position: absolute;width: 1px;}#sk-container-id-1 div.sk-estimator {font-family: monospace;background-color: #f0f8ff;border: 1px dotted black;border-radius: 0.25em;box-sizing: border-box;margin-bottom: 0.5em;}#sk-container-id-1 div.sk-estimator:hover {background-color: #d4ebff;}#sk-container-id-1 div.sk-parallel-item::after {content: \"\";width: 100%;border-bottom: 1px solid gray;flex-grow: 1;}#sk-container-id-1 div.sk-label:hover label.sk-toggleable__label {background-color: #d4ebff;}#sk-container-id-1 div.sk-serial::before {content: \"\";position: absolute;border-left: 1px solid gray;box-sizing: border-box;top: 0;bottom: 0;left: 50%;z-index: 0;}#sk-container-id-1 div.sk-serial {display: flex;flex-direction: column;align-items: center;background-color: white;padding-right: 0.2em;padding-left: 0.2em;position: relative;}#sk-container-id-1 div.sk-item {position: relative;z-index: 1;}#sk-container-id-1 div.sk-parallel {display: flex;align-items: stretch;justify-content: center;background-color: white;position: relative;}#sk-container-id-1 div.sk-item::before, #sk-container-id-1 div.sk-parallel-item::before {content: \"\";position: absolute;border-left: 1px solid gray;box-sizing: border-box;top: 0;bottom: 0;left: 50%;z-index: -1;}#sk-container-id-1 div.sk-parallel-item {display: flex;flex-direction: column;z-index: 1;position: relative;background-color: white;}#sk-container-id-1 div.sk-parallel-item:first-child::after {align-self: flex-end;width: 50%;}#sk-container-id-1 div.sk-parallel-item:last-child::after {align-self: flex-start;width: 50%;}#sk-container-id-1 div.sk-parallel-item:only-child::after {width: 0;}#sk-container-id-1 div.sk-dashed-wrapped {border: 1px dashed gray;margin: 0 0.4em 0.5em 0.4em;box-sizing: border-box;padding-bottom: 0.4em;background-color: white;}#sk-container-id-1 div.sk-label label {font-family: monospace;font-weight: bold;display: inline-block;line-height: 1.2em;}#sk-container-id-1 div.sk-label-container {text-align: center;}#sk-container-id-1 div.sk-container {/* jupyter's `normalize.less` sets `[hidden] { display: none; }` but bootstrap.min.css set `[hidden] { display: none !important; }` so we also need the `!important` here to be able to override the default hidden behavior on the sphinx rendered scikit-learn.org. See: https://github.com/scikit-learn/scikit-learn/issues/21755 */display: inline-block !important;position: relative;}#sk-container-id-1 div.sk-text-repr-fallback {display: none;}</style><div id=\"sk-container-id-1\" class=\"sk-top-container\"><div class=\"sk-text-repr-fallback\"><pre>LassoCV(cv=10, max_iter=10000, normalize=True)</pre><b>In a Jupyter environment, please rerun this cell to show the HTML representation or trust the notebook. <br />On GitHub, the HTML representation is unable to render, please try loading this page with nbviewer.org.</b></div><div class=\"sk-container\" hidden><div class=\"sk-item\"><div class=\"sk-estimator sk-toggleable\"><input class=\"sk-toggleable__control sk-hidden--visually\" id=\"sk-estimator-id-1\" type=\"checkbox\" checked><label for=\"sk-estimator-id-1\" class=\"sk-toggleable__label sk-toggleable__label-arrow\">LassoCV</label><div class=\"sk-toggleable__content\"><pre>LassoCV(cv=10, max_iter=10000, normalize=True)</pre></div></div></div></div></div>"
      ],
      "text/plain": [
       "LassoCV(cv=10, max_iter=10000, normalize=True)"
      ]
     },
     "execution_count": 76,
     "metadata": {},
     "output_type": "execute_result"
    }
   ],
   "source": [
    "from sklearn.linear_model import Lasso, LassoCV\n",
    "lassocv = LassoCV(alphas = None, cv = 10, max_iter = 10000, normalize = True)\n",
    "lassocv.fit(x_train, y_train)"
   ]
  },
  {
   "cell_type": "code",
   "execution_count": 77,
   "id": "e2f1a275",
   "metadata": {},
   "outputs": [
    {
     "data": {
      "text/plain": [
       "0.29346119320434705"
      ]
     },
     "execution_count": 77,
     "metadata": {},
     "output_type": "execute_result"
    }
   ],
   "source": [
    "lasso = Lasso(alpha = lassocv.alpha_)\n",
    "lasso.fit(x_train, y_train)\n",
    "\n",
    "r2_score(y_test,lasso.predict(x_test))"
   ]
  },
  {
   "cell_type": "markdown",
   "id": "d8f5676a",
   "metadata": {},
   "source": [
    "### 3.Decision TreeRegressor"
   ]
  },
  {
   "cell_type": "code",
   "execution_count": 78,
   "id": "2469b55c",
   "metadata": {},
   "outputs": [
    {
     "data": {
      "text/plain": [
       "0.9191225949962704"
      ]
     },
     "execution_count": 78,
     "metadata": {},
     "output_type": "execute_result"
    }
   ],
   "source": [
    "from sklearn.tree import DecisionTreeRegressor\n",
    "\n",
    "\n",
    "DTree=DecisionTreeRegressor(min_samples_leaf=.0001)\n",
    "DTree.fit(x_train,y_train)\n",
    "y_predict=DTree.predict(x_test)\n",
    "\n",
    "from sklearn.metrics import r2_score\n",
    "r2_score(y_test,y_predict)"
   ]
  },
  {
   "cell_type": "markdown",
   "id": "474a47b0",
   "metadata": {},
   "source": [
    "### 4.Random Forest Regressor"
   ]
  },
  {
   "cell_type": "code",
   "execution_count": 79,
   "id": "7b81f409",
   "metadata": {},
   "outputs": [
    {
     "data": {
      "text/plain": [
       "0.9417583162263621"
      ]
     },
     "execution_count": 79,
     "metadata": {},
     "output_type": "execute_result"
    }
   ],
   "source": [
    "#Preparing Random Forest Regression\n",
    "from sklearn.ensemble import RandomForestRegressor\n",
    "RForest=RandomForestRegressor(n_estimators=500,random_state=329,min_samples_leaf=.0001)\n",
    "RForest.fit(x_train,y_train)\n",
    "y_predict=RForest.predict(x_test)\n",
    "\n",
    "r2_score(y_test,y_predict)"
   ]
  },
  {
   "cell_type": "markdown",
   "id": "35e576df",
   "metadata": {},
   "source": [
    "### 5.Gradient Boosting Regressor"
   ]
  },
  {
   "cell_type": "code",
   "execution_count": 80,
   "id": "cb32eabc",
   "metadata": {},
   "outputs": [
    {
     "data": {
      "text/plain": [
       "0.7950949162635975"
      ]
     },
     "execution_count": 80,
     "metadata": {},
     "output_type": "execute_result"
    }
   ],
   "source": [
    "from sklearn.ensemble import GradientBoostingRegressor\n",
    "\n",
    "gbr = GradientBoostingRegressor()\n",
    "gbr.fit(x_train, y_train)\n",
    "\n",
    "y_predict=gbr.predict(x_test)\n",
    "\n",
    "\n",
    "\n",
    "r2_score(y_test,y_predict)"
   ]
  },
  {
   "cell_type": "markdown",
   "id": "368ddeaa",
   "metadata": {},
   "source": [
    "### 6.XGB Regressor"
   ]
  },
  {
   "cell_type": "code",
   "execution_count": 81,
   "id": "a334aa97",
   "metadata": {},
   "outputs": [
    {
     "name": "stdout",
     "output_type": "stream",
     "text": [
      "Requirement already satisfied: xgboost in c:\\users\\prapti\\anaconda3\\lib\\site-packages (1.6.1)\n",
      "Requirement already satisfied: scipy in c:\\users\\prapti\\anaconda3\\lib\\site-packages (from xgboost) (1.7.1)\n",
      "Requirement already satisfied: numpy in c:\\users\\prapti\\anaconda3\\lib\\site-packages (from xgboost) (1.20.3)\n"
     ]
    },
    {
     "name": "stderr",
     "output_type": "stream",
     "text": [
      "\n",
      "[notice] A new release of pip available: 22.2.1 -> 22.2.2\n",
      "[notice] To update, run: python.exe -m pip install --upgrade pip\n"
     ]
    }
   ],
   "source": [
    "!pip install xgboost"
   ]
  },
  {
   "cell_type": "code",
   "execution_count": 82,
   "id": "0cead7e5",
   "metadata": {},
   "outputs": [
    {
     "data": {
      "text/plain": [
       "0.8963328586459267"
      ]
     },
     "execution_count": 82,
     "metadata": {},
     "output_type": "execute_result"
    }
   ],
   "source": [
    "from xgboost import XGBRegressor\n",
    "\n",
    "xgb = XGBRegressor(booster = 'gbtree', learning_rate = 0.1, max_depth = 7, n_estimators = 200)\n",
    "xgb.fit(x_train, y_train)\n",
    "y_predict=xgb.predict(x_test)\n",
    "\n",
    "r2_score(y_test,y_predict)"
   ]
  },
  {
   "cell_type": "code",
   "execution_count": 83,
   "id": "bf873475",
   "metadata": {},
   "outputs": [
    {
     "data": {
      "text/html": [
       "<div>\n",
       "<style scoped>\n",
       "    .dataframe tbody tr th:only-of-type {\n",
       "        vertical-align: middle;\n",
       "    }\n",
       "\n",
       "    .dataframe tbody tr th {\n",
       "        vertical-align: top;\n",
       "    }\n",
       "\n",
       "    .dataframe thead th {\n",
       "        text-align: right;\n",
       "    }\n",
       "</style>\n",
       "<table border=\"1\" class=\"dataframe\">\n",
       "  <thead>\n",
       "    <tr style=\"text-align: right;\">\n",
       "      <th></th>\n",
       "      <th>Model</th>\n",
       "      <th>Score</th>\n",
       "    </tr>\n",
       "  </thead>\n",
       "  <tbody>\n",
       "    <tr>\n",
       "      <th>3</th>\n",
       "      <td>Random Forest</td>\n",
       "      <td>0.941758</td>\n",
       "    </tr>\n",
       "    <tr>\n",
       "      <th>2</th>\n",
       "      <td>Decision Tree</td>\n",
       "      <td>0.919123</td>\n",
       "    </tr>\n",
       "    <tr>\n",
       "      <th>5</th>\n",
       "      <td>XgBoost</td>\n",
       "      <td>0.896333</td>\n",
       "    </tr>\n",
       "    <tr>\n",
       "      <th>4</th>\n",
       "      <td>Gradient Boost</td>\n",
       "      <td>0.795095</td>\n",
       "    </tr>\n",
       "    <tr>\n",
       "      <th>0</th>\n",
       "      <td>Linear Regression</td>\n",
       "      <td>0.293461</td>\n",
       "    </tr>\n",
       "    <tr>\n",
       "      <th>1</th>\n",
       "      <td>Lasso Regression</td>\n",
       "      <td>0.293461</td>\n",
       "    </tr>\n",
       "  </tbody>\n",
       "</table>\n",
       "</div>"
      ],
      "text/plain": [
       "               Model     Score\n",
       "3      Random Forest  0.941758\n",
       "2      Decision Tree  0.919123\n",
       "5            XgBoost  0.896333\n",
       "4     Gradient Boost  0.795095\n",
       "0  Linear Regression  0.293461\n",
       "1   Lasso Regression  0.293461"
      ]
     },
     "execution_count": 83,
     "metadata": {},
     "output_type": "execute_result"
    }
   ],
   "source": [
    "models = pd.DataFrame({\n",
    "    'Model' : ['Linear Regression', 'Lasso Regression', 'Decision Tree', 'Random Forest', 'Gradient Boost', 'XgBoost'],\n",
    "    'Score' : [reg.score(x_test, y_test), lasso.score(x_test, y_test), DTree.score(x_test, y_test), RForest.score(x_test, y_test),\n",
    "               gbr.score(x_test, y_test), xgb.score(x_test, y_test)]\n",
    "})\n",
    "\n",
    "\n",
    "models.sort_values(by = 'Score', ascending = False)"
   ]
  },
  {
   "cell_type": "markdown",
   "id": "a3a01a1d",
   "metadata": {},
   "source": [
    "### THANK YOU !!"
   ]
  }
 ],
 "metadata": {
  "kernelspec": {
   "display_name": "Python 3 (ipykernel)",
   "language": "python",
   "name": "python3"
  },
  "language_info": {
   "codemirror_mode": {
    "name": "ipython",
    "version": 3
   },
   "file_extension": ".py",
   "mimetype": "text/x-python",
   "name": "python",
   "nbconvert_exporter": "python",
   "pygments_lexer": "ipython3",
   "version": "3.9.7"
  }
 },
 "nbformat": 4,
 "nbformat_minor": 5
}
